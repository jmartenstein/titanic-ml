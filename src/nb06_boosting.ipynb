{
 "cells": [
  {
   "cell_type": "markdown",
   "id": "76c94146-3e52-423e-ba85-ad4e0e2b3237",
   "metadata": {},
   "source": [
    "Explore Features with Gradient Tree Boosting\n",
    "============================================\n",
    "\n",
    "There are roughly 30 features generated from the data cleaning script. This model will explore feature performance through training and tuning a gradient boosting classifier model."
   ]
  },
  {
   "cell_type": "code",
   "execution_count": 1,
   "id": "1abab66f-81ba-432d-b5db-d9fcded719c4",
   "metadata": {},
   "outputs": [
    {
     "name": "stdout",
     "output_type": "stream",
     "text": [
      "(891, 55)\n"
     ]
    }
   ],
   "source": [
    "# set up code and dataframe with training data\n",
    "import pandas as pd\n",
    "import numpy as np\n",
    "import statistics as st\n",
    "\n",
    "import sklearn.metrics as ms\n",
    "import sklearn.ensemble as en\n",
    "import sklearn.model_selection as mds\n",
    "import matplotlib.pyplot as plt\n",
    "\n",
    "from scipy import interpolate\n",
    "\n",
    "datestamp = \"20250226.185554\"\n",
    "df_ = pd.read_csv(f\"../data/kaggle/train.clean.{datestamp}.csv\")\n",
    "print(df_.shape)"
   ]
  },
  {
   "cell_type": "code",
   "execution_count": 2,
   "id": "b414ad08-1a9f-4e92-9b30-f2cd01c87f8d",
   "metadata": {},
   "outputs": [
    {
     "name": "stdout",
     "output_type": "stream",
     "text": [
      "<class 'pandas.core.frame.DataFrame'>\n",
      "RangeIndex: 891 entries, 0 to 890\n",
      "Data columns (total 33 columns):\n",
      " #   Column         Non-Null Count  Dtype  \n",
      "---  ------         --------------  -----  \n",
      " 0   Pclass         891 non-null    int64  \n",
      " 1   Fare           891 non-null    float64\n",
      " 2   TitleOrd       891 non-null    float64\n",
      " 3   Master         891 non-null    int64  \n",
      " 4   Miss           891 non-null    int64  \n",
      " 5   Mrs            891 non-null    int64  \n",
      " 6   OtherFemale    891 non-null    int64  \n",
      " 7   OtherMale      891 non-null    int64  \n",
      " 8   IsChild        891 non-null    int64  \n",
      " 9   IsYoungChild   891 non-null    int64  \n",
      " 10  GroupSize      891 non-null    int64  \n",
      " 11  LargeGroup     891 non-null    int64  \n",
      " 12  IsAlone        891 non-null    int64  \n",
      " 13  Pclass1        891 non-null    int64  \n",
      " 14  Pclass2        891 non-null    int64  \n",
      " 15  Pclass3        891 non-null    int64  \n",
      " 16  P3orDeadTitle  891 non-null    int64  \n",
      " 17  HasCabin       891 non-null    int64  \n",
      " 18  CabinOrd       891 non-null    float64\n",
      " 19  CabinA         891 non-null    int64  \n",
      " 20  CabinB         891 non-null    int64  \n",
      " 21  CabinC         891 non-null    int64  \n",
      " 22  CabinD         891 non-null    int64  \n",
      " 23  CabinE         891 non-null    int64  \n",
      " 24  CabinF         891 non-null    int64  \n",
      " 25  CabinG         891 non-null    int64  \n",
      " 26  CabinT         891 non-null    int64  \n",
      " 27  EmbarkC        891 non-null    int64  \n",
      " 28  EmbarkQ        891 non-null    int64  \n",
      " 29  EmbarkS        891 non-null    int64  \n",
      " 30  EmbarkOrd      891 non-null    float64\n",
      " 31  AgeMinMax      891 non-null    float64\n",
      " 32  FppRobust      891 non-null    float64\n",
      "dtypes: float64(6), int64(27)\n",
      "memory usage: 229.8 KB\n",
      "None\n"
     ]
    }
   ],
   "source": [
    "all_columns = True\n",
    "#all_columns = False\n",
    "\n",
    "if all_columns:\n",
    "    columns_to_drop = [ \"Survived\", \"Name\", \"Title\", \"TitleGrouped\", \"LastName\", \"Cabin\", \n",
    "                        \"Ticket\", \"Sex\", \"Age\", \"Embarked\", \"PassengerId\", \"CabinDeck\",\n",
    "                        \"CabinRoom\" ]\n",
    "    columns_to_drop += [ \"AgeRobust\", \"FppMinMax\", \"SibSp\", \"Parch\", \"SexOrd\", \n",
    "                         \"FarePerPerson\", \"AgeImputed\", \"IsMale\", \"Mr\" ]\n",
    "    x_colnames = [i for i in df_.columns if i not in columns_to_drop]\n",
    "else:\n",
    "    x_colnames = [ \"P3orDeadTitle\", \"FppRobust\", \"AgeMinMax\", \"GroupSize\",\n",
    "                   \"HasCabin\", \"Pclass\", \"EmbarkS\", \"Miss\"  ]\n",
    "\n",
    "y_colname = [ \"Survived\" ]\n",
    "\n",
    "X = df_[ x_colnames ]\n",
    "y = df_[ y_colname ].values.ravel()\n",
    "\n",
    "print(X.info())\n",
    "\n",
    "# Assuming you have your features in X and your target variable in y\n",
    "X_train, X_test, y_train, y_test = mds.train_test_split(X, y, test_size=0.2)"
   ]
  },
  {
   "cell_type": "code",
   "execution_count": 3,
   "id": "a35783a9-d87c-4b76-9a9b-a2c61e324b1b",
   "metadata": {},
   "outputs": [
    {
     "name": "stdout",
     "output_type": "stream",
     "text": [
      "Best Params: {'learning_rate': 0.7, 'max_depth': 6, 'max_features': 4, 'min_samples_leaf': 70, 'min_samples_split': 100, 'n_estimators': 50, 'subsample': 0.7}\n"
     ]
    }
   ],
   "source": [
    "num_folds = 5\n",
    "s_scoring = \"balanced_accuracy\"\n",
    "\n",
    "param_dist = {\n",
    "    'learning_rate':     [ 0.7 ],\n",
    "    'max_features':      [ 4, 5, 6 ],\n",
    "    'n_estimators':      [ 50 ],\n",
    "    'max_depth':         [ 6 ],\n",
    "    'min_samples_split': [ 90, 100, 110, 120 ],\n",
    "    'min_samples_leaf':  [ 70, 80, 90, 100 ],\n",
    "    'subsample':         [ 0.7 ],\n",
    "}\n",
    "\n",
    "gb_clf = en.GradientBoostingClassifier()\n",
    "random_search = mds.GridSearchCV( estimator=gb_clf,\n",
    "                                        param_grid=param_dist,\n",
    "                                        cv=num_folds,\n",
    "                                        scoring=s_scoring,\n",
    "                                        n_jobs=-1 )\n",
    "\n",
    "random_search.fit(X_train, y_train)\n",
    "best_params = random_search.best_params_\n",
    "model = random_search.best_estimator_\n",
    "\n",
    "print(f\"Best Params: {best_params}\")"
   ]
  },
  {
   "cell_type": "code",
   "execution_count": 4,
   "id": "fb7d1003-f90a-4e2e-acca-080976a840d8",
   "metadata": {},
   "outputs": [
    {
     "name": "stdout",
     "output_type": "stream",
     "text": [
      "          Feature  Gini Importance\n",
      "2        TitleOrd         0.500003\n",
      "32      FppRobust         0.119570\n",
      "16  P3orDeadTitle         0.084229\n",
      "31      AgeMinMax         0.072083\n",
      "1            Fare         0.068061\n",
      "18       CabinOrd         0.047927\n",
      "0          Pclass         0.017898\n",
      "30      EmbarkOrd         0.016995\n",
      "4            Miss         0.016697\n",
      "10      GroupSize         0.012164\n",
      "29        EmbarkS         0.012099\n",
      "15        Pclass3         0.010615\n",
      "13        Pclass1         0.010478\n",
      "12        IsAlone         0.005014\n",
      "17       HasCabin         0.003445\n",
      "5             Mrs         0.002362\n",
      "14        Pclass2         0.000312\n",
      "27        EmbarkC         0.000048\n",
      "7       OtherMale         0.000000\n",
      "24         CabinF         0.000000\n",
      "28        EmbarkQ         0.000000\n",
      "26         CabinT         0.000000\n",
      "25         CabinG         0.000000\n",
      "20         CabinB         0.000000\n",
      "23         CabinE         0.000000\n",
      "22         CabinD         0.000000\n",
      "21         CabinC         0.000000\n",
      "8         IsChild         0.000000\n",
      "19         CabinA         0.000000\n",
      "6     OtherFemale         0.000000\n",
      "11     LargeGroup         0.000000\n",
      "9    IsYoungChild         0.000000\n",
      "3          Master         0.000000\n"
     ]
    }
   ],
   "source": [
    "importances = model.feature_importances_\n",
    "feature_imp_df = pd.DataFrame(\n",
    "    {'Feature': x_colnames, 'Gini Importance': importances} ).sort_values(\n",
    "         'Gini Importance', ascending=False)\n",
    "print(feature_imp_df)"
   ]
  },
  {
   "cell_type": "code",
   "execution_count": 5,
   "id": "aeafd5fa-3778-4b71-9086-bdcb30624d87",
   "metadata": {},
   "outputs": [
    {
     "name": "stdout",
     "output_type": "stream",
     "text": [
      "Train AUC 0.917\n",
      "Train optimal threshold 0.304 at tpr: 0.846, fpr: 0.137\n"
     ]
    }
   ],
   "source": [
    "y_train_preds_proba = model.predict_proba(X_train)\n",
    "\n",
    "train_fpr, train_tpr, train_thresh = ms.roc_curve(y_train, y_train_preds_proba[:,1])\n",
    "train_roc_auc = ms.auc(train_fpr, train_tpr)\n",
    "\n",
    "# Calculate the geometric mean\n",
    "gmeans = np.sqrt(train_tpr * (1 - train_fpr))\n",
    "\n",
    "# Locate the index of the largest gmean\n",
    "index = np.argmax(gmeans)\n",
    "train_threshold = train_thresh[index]\n",
    "\n",
    "train_tpr_intrp = interpolate.interp1d(train_thresh, train_tpr)\n",
    "train_fpr_intrp = interpolate.interp1d(train_thresh, train_fpr)\n",
    "\n",
    "print(f\"Train AUC {round(train_roc_auc,3)}\")\n",
    "print(f\"Train optimal threshold {round(train_threshold,3)} at \" \\\n",
    "      f\"tpr: {np.round(train_tpr_intrp(train_threshold),3)}, \" \\\n",
    "      f\"fpr: {np.round(train_fpr_intrp(train_threshold),3)}\")"
   ]
  },
  {
   "cell_type": "code",
   "execution_count": 47,
   "id": "3a177fb4-dce3-4097-a2a6-7b75feae89ee",
   "metadata": {},
   "outputs": [
    {
     "name": "stdout",
     "output_type": "stream",
     "text": [
      "Test AUC 0.852\n",
      "Test optimal threshold 0.269 at tpr: 0.768, fpr: 0.173\n"
     ]
    }
   ],
   "source": [
    "# calculate test ROC curve\n",
    "y_test_preds_proba  = model.predict_proba(X_test)\n",
    "\n",
    "test_fpr, test_tpr, test_thresh = ms.roc_curve(y_test, y_test_preds_proba[:,1])\n",
    "test_roc_auc = ms.auc(test_fpr, test_tpr)\n",
    "\n",
    "# Calculate the geometric mean\n",
    "test_gmeans = np.sqrt(test_tpr * (1 - test_fpr))\n",
    "\n",
    "# Locate the index of the largest gmean\n",
    "test_index = np.argmax(test_gmeans)\n",
    "test_threshold = test_thresh[test_index]\n",
    "\n",
    "test_tpr_intrp = interpolate.interp1d(test_thresh, test_tpr)\n",
    "test_fpr_intrp = interpolate.interp1d(test_thresh, test_fpr)\n",
    "\n",
    "print(f\"Test AUC {round(test_roc_auc,3)}\")\n",
    "print(f\"Test optimal threshold {round(test_threshold,3)} at \" \\\n",
    "      f\"tpr: {np.round(test_tpr_intrp(test_threshold),3)}, \" \\\n",
    "      f\"fpr: {np.round(test_fpr_intrp(test_threshold),3)}\")"
   ]
  },
  {
   "cell_type": "code",
   "execution_count": 48,
   "id": "f5d58468-9f86-496d-9012-ea20e528da59",
   "metadata": {},
   "outputs": [],
   "source": [
    "# if necessay, override the threshold point\n",
    "#test_threshold = 0.80"
   ]
  },
  {
   "cell_type": "code",
   "execution_count": 49,
   "id": "bf248dc9-0544-4e33-a424-3c937cc498c5",
   "metadata": {},
   "outputs": [],
   "source": [
    "# Define the desired operating point (FPR, TPR)\n",
    "test_operating_point_fpr = test_fpr_intrp(test_threshold)\n",
    "test_operating_point_tpr = test_tpr_intrp(test_threshold)\n",
    "\n",
    "# Find the closest threshold to the desired operating point\n",
    "distances = (test_fpr - test_operating_point_fpr)**2 + (test_tpr - test_operating_point_tpr)**2\n",
    "closest_index = distances.argmin()\n",
    "test_operating_point_threshold = test_thresh[closest_index]"
   ]
  },
  {
   "cell_type": "code",
   "execution_count": 50,
   "id": "3472394d-7f06-437e-9caf-95bb5c4d79d5",
   "metadata": {},
   "outputs": [],
   "source": [
    "# Define the desired operating point (FPR, TPR)\n",
    "train_operating_point_fpr = train_fpr_intrp(train_threshold)\n",
    "train_operating_point_tpr = train_tpr_intrp(train_threshold)\n",
    "\n",
    "# Find the closest threshold to the desired operating point\n",
    "distances = (train_fpr - train_operating_point_fpr)**2 + (train_tpr - train_operating_point_tpr)**2\n",
    "closest_index = distances.argmin()\n",
    "train_operating_point_threshold = train_thresh[closest_index]"
   ]
  },
  {
   "cell_type": "code",
   "execution_count": 51,
   "id": "78241820-7225-41a1-b16b-44b8c145499e",
   "metadata": {},
   "outputs": [
    {
     "data": {
      "image/png": "[encoded data removed]",
      "text/plain": [
       "<Figure size 640x480 with 1 Axes>"
      ]
     },
     "metadata": {},
     "output_type": "display_data"
    }
   ],
   "source": [
    "plt.title('Receiver Operating Characteristic')\n",
    "\n",
    "plt.plot(test_fpr, test_tpr, 'b', label = 'Test AUC = %0.3f' % test_roc_auc)\n",
    "plt.plot(train_fpr, train_tpr, 'g', label = 'Train AUC = %0.3f' % train_roc_auc)\n",
    "plt.plot([0, 1], [0, 1],'r--')\n",
    "\n",
    "plt.plot(test_operating_point_fpr,test_operating_point_tpr, 'bo', label=f'Test Operating Point')\n",
    "#plt.plot(train_operating_point_fpr,train_operating_point_tpr, 'go', label=f'Train Operating Point')\n",
    "\n",
    "plt.xlim([0, 1])\n",
    "plt.ylim([0, 1])\n",
    "plt.ylabel('True Positive Rate')\n",
    "plt.xlabel('False Positive Rate')\n",
    "\n",
    "plt.legend(loc = 'lower right')\n",
    "plt.show()"
   ]
  },
  {
   "cell_type": "code",
   "execution_count": 52,
   "id": "df276512-d3ed-40eb-ac41-587c465bff49",
   "metadata": {},
   "outputs": [
    {
     "name": "stdout",
     "output_type": "stream",
     "text": [
      "Confusion Matrix, at Threshold 0.269\n",
      "  tn 91   fp 19 \n",
      "  fn 17   tp 52 \n",
      "\n",
      "Bal Acc: 0.79, Pre: 0.732, Rec: 0.754, F1 Micro: 0.799\n"
     ]
    }
   ],
   "source": [
    "y_test_preds = (y_test_preds_proba[:,1] > test_threshold).astype(int)\n",
    "\n",
    "tn, fp, fn, tp = ms.confusion_matrix(y_test, y_test_preds).ravel()\n",
    "print(f\"Confusion Matrix, at Threshold {test_threshold:.3f}\")\n",
    "print(f\"  tn {tn:<3}  fp {fp:<3}\")\n",
    "print(f\"  fn {fn:<3}  tp {tp:<3}\")\n",
    "print()\n",
    "\n",
    "bal_acc   = round( ms.balanced_accuracy_score( y_test, y_test_preds ), 3 )\n",
    "precision = round( ms.precision_score( y_test, y_test_preds ), 3 )\n",
    "recall    = round( ms.recall_score( y_test, y_test_preds ), 3 )\n",
    "f1        = round( ms.f1_score( y_test, y_test_preds, average='micro' ), 3 )\n",
    "\n",
    "s_scores = f\"Bal Acc: {bal_acc}, Pre: {precision}, Rec: {recall}, F1 Micro: {f1}\"\n",
    "print(s_scores)"
   ]
  },
  {
   "cell_type": "code",
   "execution_count": 53,
   "id": "cbf2cd66-9b37-492b-81bb-8de13008ab1c",
   "metadata": {},
   "outputs": [
    {
     "data": {
      "image/png": "[encoded data removed]",
      "text/plain": [
       "<Figure size 640x480 with 1 Axes>"
      ]
     },
     "metadata": {},
     "output_type": "display_data"
    }
   ],
   "source": [
    "# Plot the precision-recall curve\n",
    "display = ms.PrecisionRecallDisplay.from_estimator(model, X_test, y_test)\n",
    "plt.title('Precision-Recall Curve')\n",
    "plt.plot(recall, precision, 'bo', label=f'Test Operating Point')\n",
    "plt.show()"
   ]
  },
  {
   "cell_type": "code",
   "execution_count": 54,
   "id": "900a8ae2-c2bc-43a1-bbfa-f66f1a9e2678",
   "metadata": {},
   "outputs": [
    {
     "data": {
      "text/html": [
       "<style type=\"text/css\">\n",
       "</style>\n",
       "<table id=\"T_78455\">\n",
       "  <thead>\n",
       "    <tr>\n",
       "      <th id=\"T_78455_level0_col0\" class=\"col_heading level0 col0\" >Pclass</th>\n",
       "      <th id=\"T_78455_level0_col1\" class=\"col_heading level0 col1\" >LastName</th>\n",
       "      <th id=\"T_78455_level0_col2\" class=\"col_heading level0 col2\" >Title</th>\n",
       "      <th id=\"T_78455_level0_col3\" class=\"col_heading level0 col3\" >Sex</th>\n",
       "      <th id=\"T_78455_level0_col4\" class=\"col_heading level0 col4\" >Age</th>\n",
       "      <th id=\"T_78455_level0_col5\" class=\"col_heading level0 col5\" >Cabin</th>\n",
       "      <th id=\"T_78455_level0_col6\" class=\"col_heading level0 col6\" >Embarked</th>\n",
       "      <th id=\"T_78455_level0_col7\" class=\"col_heading level0 col7\" >FarePerPerson</th>\n",
       "      <th id=\"T_78455_level0_col8\" class=\"col_heading level0 col8\" >SurvivedProbability</th>\n",
       "      <th id=\"T_78455_level0_col9\" class=\"col_heading level0 col9\" >Survived</th>\n",
       "    </tr>\n",
       "  </thead>\n",
       "  <tbody>\n",
       "    <tr>\n",
       "      <td id=\"T_78455_row0_col0\" class=\"data row0 col0\" >3</td>\n",
       "      <td id=\"T_78455_row0_col1\" class=\"data row0 col1\" >Cacic</td>\n",
       "      <td id=\"T_78455_row0_col2\" class=\"data row0 col2\" >Miss</td>\n",
       "      <td id=\"T_78455_row0_col3\" class=\"data row0 col3\" >female</td>\n",
       "      <td id=\"T_78455_row0_col4\" class=\"data row0 col4\" >21.000000</td>\n",
       "      <td id=\"T_78455_row0_col5\" class=\"data row0 col5\" >nan</td>\n",
       "      <td id=\"T_78455_row0_col6\" class=\"data row0 col6\" >S</td>\n",
       "      <td id=\"T_78455_row0_col7\" class=\"data row0 col7\" >8.662500</td>\n",
       "      <td id=\"T_78455_row0_col8\" class=\"data row0 col8\" >0.265609</td>\n",
       "      <td id=\"T_78455_row0_col9\" class=\"data row0 col9\" >0</td>\n",
       "    </tr>\n",
       "    <tr>\n",
       "      <td id=\"T_78455_row1_col0\" class=\"data row1 col0\" >3</td>\n",
       "      <td id=\"T_78455_row1_col1\" class=\"data row1 col1\" >Nilsson</td>\n",
       "      <td id=\"T_78455_row1_col2\" class=\"data row1 col2\" >Mr</td>\n",
       "      <td id=\"T_78455_row1_col3\" class=\"data row1 col3\" >male</td>\n",
       "      <td id=\"T_78455_row1_col4\" class=\"data row1 col4\" >21.000000</td>\n",
       "      <td id=\"T_78455_row1_col5\" class=\"data row1 col5\" >nan</td>\n",
       "      <td id=\"T_78455_row1_col6\" class=\"data row1 col6\" >S</td>\n",
       "      <td id=\"T_78455_row1_col7\" class=\"data row1 col7\" >7.854200</td>\n",
       "      <td id=\"T_78455_row1_col8\" class=\"data row1 col8\" >0.269420</td>\n",
       "      <td id=\"T_78455_row1_col9\" class=\"data row1 col9\" >1</td>\n",
       "    </tr>\n",
       "    <tr>\n",
       "      <td id=\"T_78455_row2_col0\" class=\"data row2 col0\" >3</td>\n",
       "      <td id=\"T_78455_row2_col1\" class=\"data row2 col1\" >Karlsson</td>\n",
       "      <td id=\"T_78455_row2_col2\" class=\"data row2 col2\" >Mr</td>\n",
       "      <td id=\"T_78455_row2_col3\" class=\"data row2 col3\" >male</td>\n",
       "      <td id=\"T_78455_row2_col4\" class=\"data row2 col4\" >21.000000</td>\n",
       "      <td id=\"T_78455_row2_col5\" class=\"data row2 col5\" >nan</td>\n",
       "      <td id=\"T_78455_row2_col6\" class=\"data row2 col6\" >S</td>\n",
       "      <td id=\"T_78455_row2_col7\" class=\"data row2 col7\" >7.795800</td>\n",
       "      <td id=\"T_78455_row2_col8\" class=\"data row2 col8\" >0.269420</td>\n",
       "      <td id=\"T_78455_row2_col9\" class=\"data row2 col9\" >1</td>\n",
       "    </tr>\n",
       "    <tr>\n",
       "      <td id=\"T_78455_row3_col0\" class=\"data row3 col0\" >3</td>\n",
       "      <td id=\"T_78455_row3_col1\" class=\"data row3 col1\" >Brobeck</td>\n",
       "      <td id=\"T_78455_row3_col2\" class=\"data row3 col2\" >Mr</td>\n",
       "      <td id=\"T_78455_row3_col3\" class=\"data row3 col3\" >male</td>\n",
       "      <td id=\"T_78455_row3_col4\" class=\"data row3 col4\" >22.000000</td>\n",
       "      <td id=\"T_78455_row3_col5\" class=\"data row3 col5\" >nan</td>\n",
       "      <td id=\"T_78455_row3_col6\" class=\"data row3 col6\" >S</td>\n",
       "      <td id=\"T_78455_row3_col7\" class=\"data row3 col7\" >7.795800</td>\n",
       "      <td id=\"T_78455_row3_col8\" class=\"data row3 col8\" >0.269420</td>\n",
       "      <td id=\"T_78455_row3_col9\" class=\"data row3 col9\" >1</td>\n",
       "    </tr>\n",
       "    <tr>\n",
       "      <td id=\"T_78455_row4_col0\" class=\"data row4 col0\" >1</td>\n",
       "      <td id=\"T_78455_row4_col1\" class=\"data row4 col1\" >McCaffry</td>\n",
       "      <td id=\"T_78455_row4_col2\" class=\"data row4 col2\" >Mr</td>\n",
       "      <td id=\"T_78455_row4_col3\" class=\"data row4 col3\" >male</td>\n",
       "      <td id=\"T_78455_row4_col4\" class=\"data row4 col4\" >46.000000</td>\n",
       "      <td id=\"T_78455_row4_col5\" class=\"data row4 col5\" >C6</td>\n",
       "      <td id=\"T_78455_row4_col6\" class=\"data row4 col6\" >C</td>\n",
       "      <td id=\"T_78455_row4_col7\" class=\"data row4 col7\" >75.241700</td>\n",
       "      <td id=\"T_78455_row4_col8\" class=\"data row4 col8\" >0.269600</td>\n",
       "      <td id=\"T_78455_row4_col9\" class=\"data row4 col9\" >1</td>\n",
       "    </tr>\n",
       "    <tr>\n",
       "      <td id=\"T_78455_row5_col0\" class=\"data row5 col0\" >3</td>\n",
       "      <td id=\"T_78455_row5_col1\" class=\"data row5 col1\" >Olsson</td>\n",
       "      <td id=\"T_78455_row5_col2\" class=\"data row5 col2\" >Mr</td>\n",
       "      <td id=\"T_78455_row5_col3\" class=\"data row5 col3\" >male</td>\n",
       "      <td id=\"T_78455_row5_col4\" class=\"data row5 col4\" >32.000000</td>\n",
       "      <td id=\"T_78455_row5_col5\" class=\"data row5 col5\" >nan</td>\n",
       "      <td id=\"T_78455_row5_col6\" class=\"data row5 col6\" >S</td>\n",
       "      <td id=\"T_78455_row5_col7\" class=\"data row5 col7\" >7.775000</td>\n",
       "      <td id=\"T_78455_row5_col8\" class=\"data row5 col8\" >0.272157</td>\n",
       "      <td id=\"T_78455_row5_col9\" class=\"data row5 col9\" >1</td>\n",
       "    </tr>\n",
       "  </tbody>\n",
       "</table>\n"
      ],
      "text/plain": [
       "<pandas.io.formats.style.Styler at 0x12d62dca0>"
      ]
     },
     "execution_count": 54,
     "metadata": {},
     "output_type": "execute_result"
    }
   ],
   "source": [
    "df_test = pd.read_csv(f\"../data/kaggle/test.clean.{datestamp}.csv\")\n",
    "\n",
    "y_proba = model.predict_proba(df_test[x_colnames])\n",
    "y_preds = (y_proba[:,1] > test_threshold).astype(int)\n",
    "\n",
    "df_test[\"SurvivedProbability\"] = y_proba[:,1]\n",
    "df_test[\"Survived\"] = y_preds\n",
    "\n",
    "df_test_sub = df_test[ (df_test[\"SurvivedProbability\"] < test_threshold + 0.1) & \\\n",
    "                       (df_test[\"SurvivedProbability\"] > test_threshold - 0.1) ] \\\n",
    "                .sort_values(by=\"SurvivedProbability\") \\\n",
    "                .reset_index()\n",
    "\n",
    "df_closest = df_test_sub.iloc[(df_test_sub[\"SurvivedProbability\"] - test_threshold).abs().argsort()[:6]].sort_values(by=\"SurvivedProbability\")\n",
    "\n",
    "df_closest[[ \"Pclass\", \"LastName\", \"Title\", \"Sex\", \"Age\", \"Cabin\", \"Embarked\", \"FarePerPerson\", \"SurvivedProbability\", \"Survived\" ]].style.hide(axis=\"index\")"
   ]
  },
  {
   "cell_type": "markdown",
   "id": "58c04462-61cd-4d7a-89c0-233e2e953e53",
   "metadata": {},
   "source": [
    "## Write Output to File"
   ]
  },
  {
   "cell_type": "code",
   "execution_count": 55,
   "id": "ff1d823d-64f6-4b18-9540-c6c039970871",
   "metadata": {},
   "outputs": [],
   "source": [
    "df_test[[\"PassengerId\", \"Survived\"]].to_csv(f\"../data/kaggle/submit.boosting.csv\", index=False)"
   ]
  }
 ],
 "metadata": {
  "kernelspec": {
   "display_name": "Python 3 (ipykernel)",
   "language": "python",
   "name": "python3"
  },
  "language_info": {
   "codemirror_mode": {
    "name": "ipython",
    "version": 3
   },
   "file_extension": ".py",
   "mimetype": "text/x-python",
   "name": "python",
   "nbconvert_exporter": "python",
   "pygments_lexer": "ipython3",
   "version": "3.12.7"
  }
 },
 "nbformat": 4,
 "nbformat_minor": 5
}
