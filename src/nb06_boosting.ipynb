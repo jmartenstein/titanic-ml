{
 "cells": [
  {
   "cell_type": "markdown",
   "id": "76c94146-3e52-423e-ba85-ad4e0e2b3237",
   "metadata": {},
   "source": [
    "Explore Features with Gradient Tree Boosting\n",
    "============================================\n",
    "\n",
    "There are roughly 30 features generated from the data cleaning script. This model will explore feature performance through training and tuning a gradient boosting classifier model."
   ]
  },
  {
   "cell_type": "code",
   "execution_count": 1,
   "id": "1abab66f-81ba-432d-b5db-d9fcded719c4",
   "metadata": {},
   "outputs": [
    {
     "name": "stdout",
     "output_type": "stream",
     "text": [
      "(891, 57)\n"
     ]
    }
   ],
   "source": [
    "# set up code and dataframe with training data\n",
    "import pandas as pd\n",
    "import numpy as np\n",
    "import statistics as st\n",
    "\n",
    "import sklearn.metrics as ms\n",
    "import sklearn.ensemble as en\n",
    "import sklearn.model_selection as mds\n",
    "import matplotlib.pyplot as plt\n",
    "\n",
    "from scipy import interpolate\n",
    "\n",
    "datestamp = \"20250227.113507\"\n",
    "df_ = pd.read_csv(f\"../data/kaggle/train.clean.{datestamp}.csv\")\n",
    "print(df_.shape)"
   ]
  },
  {
   "cell_type": "code",
   "execution_count": 2,
   "id": "b414ad08-1a9f-4e92-9b30-f2cd01c87f8d",
   "metadata": {},
   "outputs": [
    {
     "name": "stdout",
     "output_type": "stream",
     "text": [
      "<class 'pandas.core.frame.DataFrame'>\n",
      "RangeIndex: 891 entries, 0 to 890\n",
      "Data columns (total 17 columns):\n",
      " #   Column         Non-Null Count  Dtype  \n",
      "---  ------         --------------  -----  \n",
      " 0   P3orDeadTitle  891 non-null    int64  \n",
      " 1   Mr             891 non-null    int64  \n",
      " 2   Pclass3        891 non-null    int64  \n",
      " 3   Pclass2        891 non-null    int64  \n",
      " 4   Pclass3        891 non-null    int64  \n",
      " 5   IsMale         891 non-null    int64  \n",
      " 6   FppRobust      891 non-null    float64\n",
      " 7   AgeRobust      891 non-null    float64\n",
      " 8   GroupSize      891 non-null    int64  \n",
      " 9   EmbarkOrd      891 non-null    float64\n",
      " 10  TitleOrd       891 non-null    float64\n",
      " 11  CabinOrd       891 non-null    float64\n",
      " 12  Pclass         891 non-null    int64  \n",
      " 13  HasCabin       891 non-null    int64  \n",
      " 14  IsAlone        891 non-null    int64  \n",
      " 15  Fare           891 non-null    float64\n",
      " 16  LastNameOrd    891 non-null    float64\n",
      "dtypes: float64(7), int64(10)\n",
      "memory usage: 118.5 KB\n",
      "None\n"
     ]
    }
   ],
   "source": [
    "#all_columns = True\n",
    "all_columns = False\n",
    "\n",
    "if all_columns:\n",
    "    columns_to_drop = [ \"Survived\", \"Name\", \"Title\", \"TitleGrouped\", \"LastName\", \"Cabin\", \n",
    "                        \"Ticket\", \"Sex\", \"Age\", \"Embarked\", \"PassengerId\", \"CabinDeck\",\n",
    "                        \"CabinRoom\" ]\n",
    "    columns_to_drop += [ \"AgeImputed\", \"FarePerPerson\", \"FppMinMax\", \"SibSp\", \"Parch\", \"SexOrd\", \n",
    "                         \"AgeMinMax\" ]\n",
    "    x_colnames = [i for i in df_.columns if i not in columns_to_drop]\n",
    "else:\n",
    "    x_colnames = [ \"P3orDeadTitle\", \"Mr\", \"Pclass3\", \"Pclass2\", \"Pclass3\", \"IsMale\", \"FppRobust\", \n",
    "                   \"AgeRobust\", \"GroupSize\", \"EmbarkOrd\", \"TitleOrd\", \"CabinOrd\", \"Pclass\", \n",
    "                   \"HasCabin\", \"IsAlone\", \"Fare\", \"LastNameOrd\"  ]\n",
    "\n",
    "y_colname = [ \"Survived\" ]\n",
    "\n",
    "X = df_[ x_colnames ]\n",
    "y = df_[ y_colname ].values.ravel()\n",
    "\n",
    "print(X.info())\n",
    "\n",
    "# Assuming you have your features in X and your target variable in y\n",
    "X_train, X_test, y_train, y_test = mds.train_test_split(X, y, test_size=0.2)"
   ]
  },
  {
   "cell_type": "code",
   "execution_count": 3,
   "id": "a35783a9-d87c-4b76-9a9b-a2c61e324b1b",
   "metadata": {},
   "outputs": [
    {
     "name": "stdout",
     "output_type": "stream",
     "text": [
      "Best Params: {'learning_rate': 0.1, 'max_depth': 8, 'max_features': 6, 'min_samples_leaf': 5, 'min_samples_split': 7, 'n_estimators': 10, 'subsample': 0.7}\n"
     ]
    }
   ],
   "source": [
    "num_folds = 5\n",
    "s_scoring = \"balanced_accuracy\"\n",
    "\n",
    "param_dist = {\n",
    "    'learning_rate':     [ 0.1 ],\n",
    "    'max_features':      [ 6 ],\n",
    "    'n_estimators':      [ 10 ],\n",
    "    'max_depth':         [ 8 ],\n",
    "    'min_samples_split': [ 7 ],\n",
    "    'min_samples_leaf':  [ 5 ],\n",
    "    'subsample':         [ 0.7 ],\n",
    "}\n",
    "\n",
    "gb_clf = en.GradientBoostingClassifier()\n",
    "random_search = mds.GridSearchCV( estimator=gb_clf,\n",
    "                                        param_grid=param_dist,\n",
    "                                        cv=num_folds,\n",
    "                                        scoring=s_scoring,\n",
    "                                        n_jobs=-1 )\n",
    "\n",
    "random_search.fit(X_train, y_train)\n",
    "best_params = random_search.best_params_\n",
    "model = random_search.best_estimator_\n",
    "\n",
    "print(f\"Best Params: {best_params}\")"
   ]
  },
  {
   "cell_type": "code",
   "execution_count": 4,
   "id": "fb7d1003-f90a-4e2e-acca-080976a840d8",
   "metadata": {},
   "outputs": [
    {
     "data": {
      "text/html": [
       "<div>\n",
       "<style scoped>\n",
       "    .dataframe tbody tr th:only-of-type {\n",
       "        vertical-align: middle;\n",
       "    }\n",
       "\n",
       "    .dataframe tbody tr th {\n",
       "        vertical-align: top;\n",
       "    }\n",
       "\n",
       "    .dataframe thead th {\n",
       "        text-align: right;\n",
       "    }\n",
       "</style>\n",
       "<table border=\"1\" class=\"dataframe\">\n",
       "  <thead>\n",
       "    <tr style=\"text-align: right;\">\n",
       "      <th></th>\n",
       "      <th>Feature</th>\n",
       "      <th>Gini Importance</th>\n",
       "    </tr>\n",
       "  </thead>\n",
       "  <tbody>\n",
       "    <tr>\n",
       "      <th>0</th>\n",
       "      <td>P3orDeadTitle</td>\n",
       "      <td>0.265897</td>\n",
       "    </tr>\n",
       "    <tr>\n",
       "      <th>6</th>\n",
       "      <td>FppRobust</td>\n",
       "      <td>0.096859</td>\n",
       "    </tr>\n",
       "    <tr>\n",
       "      <th>7</th>\n",
       "      <td>AgeRobust</td>\n",
       "      <td>0.091480</td>\n",
       "    </tr>\n",
       "    <tr>\n",
       "      <th>16</th>\n",
       "      <td>LastNameOrd</td>\n",
       "      <td>0.089860</td>\n",
       "    </tr>\n",
       "    <tr>\n",
       "      <th>15</th>\n",
       "      <td>Fare</td>\n",
       "      <td>0.088749</td>\n",
       "    </tr>\n",
       "    <tr>\n",
       "      <th>1</th>\n",
       "      <td>Mr</td>\n",
       "      <td>0.086238</td>\n",
       "    </tr>\n",
       "    <tr>\n",
       "      <th>10</th>\n",
       "      <td>TitleOrd</td>\n",
       "      <td>0.083755</td>\n",
       "    </tr>\n",
       "    <tr>\n",
       "      <th>5</th>\n",
       "      <td>IsMale</td>\n",
       "      <td>0.057144</td>\n",
       "    </tr>\n",
       "    <tr>\n",
       "      <th>8</th>\n",
       "      <td>GroupSize</td>\n",
       "      <td>0.043632</td>\n",
       "    </tr>\n",
       "    <tr>\n",
       "      <th>11</th>\n",
       "      <td>CabinOrd</td>\n",
       "      <td>0.028604</td>\n",
       "    </tr>\n",
       "    <tr>\n",
       "      <th>12</th>\n",
       "      <td>Pclass</td>\n",
       "      <td>0.017961</td>\n",
       "    </tr>\n",
       "    <tr>\n",
       "      <th>4</th>\n",
       "      <td>Pclass3</td>\n",
       "      <td>0.016953</td>\n",
       "    </tr>\n",
       "    <tr>\n",
       "      <th>13</th>\n",
       "      <td>HasCabin</td>\n",
       "      <td>0.011346</td>\n",
       "    </tr>\n",
       "    <tr>\n",
       "      <th>9</th>\n",
       "      <td>EmbarkOrd</td>\n",
       "      <td>0.010795</td>\n",
       "    </tr>\n",
       "    <tr>\n",
       "      <th>14</th>\n",
       "      <td>IsAlone</td>\n",
       "      <td>0.008419</td>\n",
       "    </tr>\n",
       "    <tr>\n",
       "      <th>3</th>\n",
       "      <td>Pclass2</td>\n",
       "      <td>0.002122</td>\n",
       "    </tr>\n",
       "    <tr>\n",
       "      <th>2</th>\n",
       "      <td>Pclass3</td>\n",
       "      <td>0.000185</td>\n",
       "    </tr>\n",
       "  </tbody>\n",
       "</table>\n",
       "</div>"
      ],
      "text/plain": [
       "          Feature  Gini Importance\n",
       "0   P3orDeadTitle         0.265897\n",
       "6       FppRobust         0.096859\n",
       "7       AgeRobust         0.091480\n",
       "16    LastNameOrd         0.089860\n",
       "15           Fare         0.088749\n",
       "1              Mr         0.086238\n",
       "10       TitleOrd         0.083755\n",
       "5          IsMale         0.057144\n",
       "8       GroupSize         0.043632\n",
       "11       CabinOrd         0.028604\n",
       "12         Pclass         0.017961\n",
       "4         Pclass3         0.016953\n",
       "13       HasCabin         0.011346\n",
       "9       EmbarkOrd         0.010795\n",
       "14        IsAlone         0.008419\n",
       "3         Pclass2         0.002122\n",
       "2         Pclass3         0.000185"
      ]
     },
     "execution_count": 4,
     "metadata": {},
     "output_type": "execute_result"
    }
   ],
   "source": [
    "importances = model.feature_importances_\n",
    "feature_imp_df = pd.DataFrame(\n",
    "    {'Feature': x_colnames, 'Gini Importance': importances} ).sort_values(\n",
    "         'Gini Importance', ascending=False)\n",
    "\n",
    "feature_imp_df"
   ]
  },
  {
   "cell_type": "code",
   "execution_count": 5,
   "id": "aeafd5fa-3778-4b71-9086-bdcb30624d87",
   "metadata": {},
   "outputs": [
    {
     "name": "stdout",
     "output_type": "stream",
     "text": [
      "Train AUC 0.965\n",
      "Train optimal threshold 0.478 at tpr: 0.849, fpr: 0.051\n"
     ]
    }
   ],
   "source": [
    "y_train_preds_proba = model.predict_proba(X_train)\n",
    "\n",
    "train_fpr, train_tpr, train_thresh = ms.roc_curve(y_train, y_train_preds_proba[:,1])\n",
    "train_roc_auc = ms.auc(train_fpr, train_tpr)\n",
    "\n",
    "# Calculate the geometric mean\n",
    "gmeans = np.sqrt(train_tpr * (1 - train_fpr))\n",
    "\n",
    "# Locate the index of the largest gmean\n",
    "index = np.argmax(gmeans)\n",
    "train_threshold = train_thresh[index]\n",
    "\n",
    "train_tpr_intrp = interpolate.interp1d(train_thresh, train_tpr)\n",
    "train_fpr_intrp = interpolate.interp1d(train_thresh, train_fpr)\n",
    "\n",
    "print(f\"Train AUC {round(train_roc_auc,3)}\")\n",
    "print(f\"Train optimal threshold {round(train_threshold,3)} at \" \\\n",
    "      f\"tpr: {np.round(train_tpr_intrp(train_threshold),3)}, \" \\\n",
    "      f\"fpr: {np.round(train_fpr_intrp(train_threshold),3)}\")"
   ]
  },
  {
   "cell_type": "code",
   "execution_count": 6,
   "id": "3a177fb4-dce3-4097-a2a6-7b75feae89ee",
   "metadata": {},
   "outputs": [
    {
     "name": "stdout",
     "output_type": "stream",
     "text": [
      "Test AUC 0.884\n",
      "Test optimal threshold 0.503 at tpr: 0.812, fpr: 0.078\n"
     ]
    }
   ],
   "source": [
    "# calculate test ROC curve\n",
    "y_test_preds_proba  = model.predict_proba(X_test)\n",
    "\n",
    "test_fpr, test_tpr, test_thresh = ms.roc_curve(y_test, y_test_preds_proba[:,1])\n",
    "test_roc_auc = ms.auc(test_fpr, test_tpr)\n",
    "\n",
    "# Calculate the geometric mean\n",
    "test_gmeans = np.sqrt(test_tpr * (1 - test_fpr))\n",
    "\n",
    "# Locate the index of the largest gmean\n",
    "test_index = np.argmax(test_gmeans)\n",
    "test_threshold = test_thresh[test_index]\n",
    "\n",
    "test_tpr_intrp = interpolate.interp1d(test_thresh, test_tpr)\n",
    "test_fpr_intrp = interpolate.interp1d(test_thresh, test_fpr)\n",
    "\n",
    "print(f\"Test AUC {round(test_roc_auc,3)}\")\n",
    "print(f\"Test optimal threshold {round(test_threshold,3)} at \" \\\n",
    "      f\"tpr: {np.round(test_tpr_intrp(test_threshold),3)}, \" \\\n",
    "      f\"fpr: {np.round(test_fpr_intrp(test_threshold),3)}\")"
   ]
  },
  {
   "cell_type": "code",
   "execution_count": 7,
   "id": "f5d58468-9f86-496d-9012-ea20e528da59",
   "metadata": {},
   "outputs": [],
   "source": [
    "# if necessay, override the threshold point\n",
    "#test_threshold = 0.6"
   ]
  },
  {
   "cell_type": "code",
   "execution_count": 8,
   "id": "bf248dc9-0544-4e33-a424-3c937cc498c5",
   "metadata": {},
   "outputs": [],
   "source": [
    "# Define the desired operating point (FPR, TPR)\n",
    "test_operating_point_fpr = test_fpr_intrp(test_threshold)\n",
    "test_operating_point_tpr = test_tpr_intrp(test_threshold)\n",
    "\n",
    "# Find the closest threshold to the desired operating point\n",
    "distances = (test_fpr - test_operating_point_fpr)**2 + (test_tpr - test_operating_point_tpr)**2\n",
    "closest_index = distances.argmin()\n",
    "test_operating_point_threshold = test_thresh[closest_index]"
   ]
  },
  {
   "cell_type": "code",
   "execution_count": 9,
   "id": "78241820-7225-41a1-b16b-44b8c145499e",
   "metadata": {},
   "outputs": [
    {
     "data": {
      "image/png": "[encoded data removed]",
      "text/plain": [
       "<Figure size 640x480 with 1 Axes>"
      ]
     },
     "metadata": {},
     "output_type": "display_data"
    }
   ],
   "source": [
    "plt.title('Receiver Operating Characteristic')\n",
    "\n",
    "plt.plot(test_fpr, test_tpr, 'b', label = 'Test AUC = %0.3f' % test_roc_auc)\n",
    "plt.plot(train_fpr, train_tpr, 'g', label = 'Train AUC = %0.3f' % train_roc_auc)\n",
    "plt.plot([0, 1], [0, 1],'r--')\n",
    "\n",
    "plt.plot(test_operating_point_fpr,test_operating_point_tpr, 'bo', label=f'Test Operating Point')\n",
    "#plt.plot(train_operating_point_fpr,train_operating_point_tpr, 'go', label=f'Train Operating Point')\n",
    "\n",
    "plt.xlim([0, 1])\n",
    "plt.ylim([0, 1])\n",
    "plt.ylabel('True Positive Rate')\n",
    "plt.xlabel('False Positive Rate')\n",
    "\n",
    "plt.legend(loc = 'lower right')\n",
    "plt.show()"
   ]
  },
  {
   "cell_type": "code",
   "execution_count": 10,
   "id": "df276512-d3ed-40eb-ac41-587c465bff49",
   "metadata": {},
   "outputs": [
    {
     "name": "stdout",
     "output_type": "stream",
     "text": [
      "Confusion Matrix, at Threshold 0.503\n",
      "  tn 106  fp 9  \n",
      "  fn 13   tp 51 \n",
      "\n",
      "Bal Acc: 0.859, Pre: 0.85, Rec: 0.797, F1 Micro: 0.877\n",
      "\n",
      "5-fold balanced_accuracy mean: 0.832, stdev: 0.044\n",
      "  each: [np.float64(0.8), np.float64(0.9), np.float64(0.82), np.float64(0.85), np.float64(0.79)]\n"
     ]
    }
   ],
   "source": [
    "y_test_preds = (y_test_preds_proba[:,1] > test_threshold).astype(int)\n",
    "\n",
    "tn, fp, fn, tp = ms.confusion_matrix(y_test, y_test_preds).ravel()\n",
    "print(f\"Confusion Matrix, at Threshold {test_threshold:.3f}\")\n",
    "print(f\"  tn {tn:<3}  fp {fp:<3}\")\n",
    "print(f\"  fn {fn:<3}  tp {tp:<3}\")\n",
    "print()\n",
    "\n",
    "bal_acc   = round( ms.balanced_accuracy_score( y_test, y_test_preds ), 3 )\n",
    "precision = round( ms.precision_score( y_test, y_test_preds ), 3 )\n",
    "recall    = round( ms.recall_score( y_test, y_test_preds ), 3 )\n",
    "f1        = round( ms.f1_score( y_test, y_test_preds, average='micro' ), 3 )\n",
    "\n",
    "s_scores = f\"Bal Acc: {bal_acc}, Pre: {precision}, Rec: {recall}, F1 Micro: {f1}\"\n",
    "print(s_scores)\n",
    "print()\n",
    "\n",
    "l_raw_scores = mds.cross_val_score(model, X_test, y_test, scoring=s_scoring, cv=num_folds)\n",
    "l_scores = [ round(i, 2) for i in l_raw_scores ]\n",
    "\n",
    "mean_score = round(st.mean(l_scores), 3)\n",
    "std_score = round(st.stdev(l_scores), 3)\n",
    "\n",
    "print(f\"{num_folds}-fold {s_scoring} mean: {mean_score}, stdev: {std_score}\")\n",
    "print(f\"  each: {l_scores}\")"
   ]
  },
  {
   "cell_type": "code",
   "execution_count": 11,
   "id": "cbf2cd66-9b37-492b-81bb-8de13008ab1c",
   "metadata": {},
   "outputs": [
    {
     "data": {
      "image/png": "[encoded data removed]",
      "text/plain": [
       "<Figure size 640x480 with 1 Axes>"
      ]
     },
     "metadata": {},
     "output_type": "display_data"
    }
   ],
   "source": [
    "# Plot the precision-recall curve\n",
    "display = ms.PrecisionRecallDisplay.from_estimator(model, X_test, y_test)\n",
    "plt.title('Precision-Recall Curve')\n",
    "plt.plot(recall, precision, 'bo', label=f'Test Operating Point')\n",
    "plt.show()"
   ]
  },
  {
   "cell_type": "code",
   "execution_count": 12,
   "id": "900a8ae2-c2bc-43a1-bbfa-f66f1a9e2678",
   "metadata": {},
   "outputs": [
    {
     "data": {
      "text/html": [
       "<style type=\"text/css\">\n",
       "</style>\n",
       "<table id=\"T_0c0b1\">\n",
       "  <thead>\n",
       "    <tr>\n",
       "      <th id=\"T_0c0b1_level0_col0\" class=\"col_heading level0 col0\" >Pclass</th>\n",
       "      <th id=\"T_0c0b1_level0_col1\" class=\"col_heading level0 col1\" >LastName</th>\n",
       "      <th id=\"T_0c0b1_level0_col2\" class=\"col_heading level0 col2\" >Title</th>\n",
       "      <th id=\"T_0c0b1_level0_col3\" class=\"col_heading level0 col3\" >Sex</th>\n",
       "      <th id=\"T_0c0b1_level0_col4\" class=\"col_heading level0 col4\" >Age</th>\n",
       "      <th id=\"T_0c0b1_level0_col5\" class=\"col_heading level0 col5\" >Cabin</th>\n",
       "      <th id=\"T_0c0b1_level0_col6\" class=\"col_heading level0 col6\" >Ticket</th>\n",
       "      <th id=\"T_0c0b1_level0_col7\" class=\"col_heading level0 col7\" >Embarked</th>\n",
       "      <th id=\"T_0c0b1_level0_col8\" class=\"col_heading level0 col8\" >FarePerPerson</th>\n",
       "      <th id=\"T_0c0b1_level0_col9\" class=\"col_heading level0 col9\" >SurvivedProbability</th>\n",
       "      <th id=\"T_0c0b1_level0_col10\" class=\"col_heading level0 col10\" >Survived</th>\n",
       "    </tr>\n",
       "  </thead>\n",
       "  <tbody>\n",
       "    <tr>\n",
       "      <td id=\"T_0c0b1_row0_col0\" class=\"data row0 col0\" >1</td>\n",
       "      <td id=\"T_0c0b1_row0_col1\" class=\"data row0 col1\" >Ovies y Rodriguez</td>\n",
       "      <td id=\"T_0c0b1_row0_col2\" class=\"data row0 col2\" >Mr</td>\n",
       "      <td id=\"T_0c0b1_row0_col3\" class=\"data row0 col3\" >male</td>\n",
       "      <td id=\"T_0c0b1_row0_col4\" class=\"data row0 col4\" >28.500000</td>\n",
       "      <td id=\"T_0c0b1_row0_col5\" class=\"data row0 col5\" >D43</td>\n",
       "      <td id=\"T_0c0b1_row0_col6\" class=\"data row0 col6\" >PC 17562</td>\n",
       "      <td id=\"T_0c0b1_row0_col7\" class=\"data row0 col7\" >C</td>\n",
       "      <td id=\"T_0c0b1_row0_col8\" class=\"data row0 col8\" >27.720800</td>\n",
       "      <td id=\"T_0c0b1_row0_col9\" class=\"data row0 col9\" >0.496761</td>\n",
       "      <td id=\"T_0c0b1_row0_col10\" class=\"data row0 col10\" >0</td>\n",
       "    </tr>\n",
       "    <tr>\n",
       "      <td id=\"T_0c0b1_row1_col0\" class=\"data row1 col0\" >3</td>\n",
       "      <td id=\"T_0c0b1_row1_col1\" class=\"data row1 col1\" >Khalil</td>\n",
       "      <td id=\"T_0c0b1_row1_col2\" class=\"data row1 col2\" >Mrs</td>\n",
       "      <td id=\"T_0c0b1_row1_col3\" class=\"data row1 col3\" >female</td>\n",
       "      <td id=\"T_0c0b1_row1_col4\" class=\"data row1 col4\" >nan</td>\n",
       "      <td id=\"T_0c0b1_row1_col5\" class=\"data row1 col5\" >nan</td>\n",
       "      <td id=\"T_0c0b1_row1_col6\" class=\"data row1 col6\" >2660</td>\n",
       "      <td id=\"T_0c0b1_row1_col7\" class=\"data row1 col7\" >C</td>\n",
       "      <td id=\"T_0c0b1_row1_col8\" class=\"data row1 col8\" >7.227100</td>\n",
       "      <td id=\"T_0c0b1_row1_col9\" class=\"data row1 col9\" >0.497358</td>\n",
       "      <td id=\"T_0c0b1_row1_col10\" class=\"data row1 col10\" >0</td>\n",
       "    </tr>\n",
       "    <tr>\n",
       "      <td id=\"T_0c0b1_row2_col0\" class=\"data row2 col0\" >3</td>\n",
       "      <td id=\"T_0c0b1_row2_col1\" class=\"data row2 col1\" >Braf</td>\n",
       "      <td id=\"T_0c0b1_row2_col2\" class=\"data row2 col2\" >Miss</td>\n",
       "      <td id=\"T_0c0b1_row2_col3\" class=\"data row2 col3\" >female</td>\n",
       "      <td id=\"T_0c0b1_row2_col4\" class=\"data row2 col4\" >20.000000</td>\n",
       "      <td id=\"T_0c0b1_row2_col5\" class=\"data row2 col5\" >nan</td>\n",
       "      <td id=\"T_0c0b1_row2_col6\" class=\"data row2 col6\" >347471</td>\n",
       "      <td id=\"T_0c0b1_row2_col7\" class=\"data row2 col7\" >S</td>\n",
       "      <td id=\"T_0c0b1_row2_col8\" class=\"data row2 col8\" >7.854200</td>\n",
       "      <td id=\"T_0c0b1_row2_col9\" class=\"data row2 col9\" >0.500407</td>\n",
       "      <td id=\"T_0c0b1_row2_col10\" class=\"data row2 col10\" >0</td>\n",
       "    </tr>\n",
       "    <tr>\n",
       "      <td id=\"T_0c0b1_row3_col0\" class=\"data row3 col0\" >1</td>\n",
       "      <td id=\"T_0c0b1_row3_col1\" class=\"data row3 col1\" >Astor</td>\n",
       "      <td id=\"T_0c0b1_row3_col2\" class=\"data row3 col2\" >Col</td>\n",
       "      <td id=\"T_0c0b1_row3_col3\" class=\"data row3 col3\" >male</td>\n",
       "      <td id=\"T_0c0b1_row3_col4\" class=\"data row3 col4\" >47.000000</td>\n",
       "      <td id=\"T_0c0b1_row3_col5\" class=\"data row3 col5\" >C62 C64</td>\n",
       "      <td id=\"T_0c0b1_row3_col6\" class=\"data row3 col6\" >PC 17757</td>\n",
       "      <td id=\"T_0c0b1_row3_col7\" class=\"data row3 col7\" >C</td>\n",
       "      <td id=\"T_0c0b1_row3_col8\" class=\"data row3 col8\" >113.762500</td>\n",
       "      <td id=\"T_0c0b1_row3_col9\" class=\"data row3 col9\" >0.500982</td>\n",
       "      <td id=\"T_0c0b1_row3_col10\" class=\"data row3 col10\" >0</td>\n",
       "    </tr>\n",
       "    <tr>\n",
       "      <td id=\"T_0c0b1_row4_col0\" class=\"data row4 col0\" >1</td>\n",
       "      <td id=\"T_0c0b1_row4_col1\" class=\"data row4 col1\" >Rowe</td>\n",
       "      <td id=\"T_0c0b1_row4_col2\" class=\"data row4 col2\" >Mr</td>\n",
       "      <td id=\"T_0c0b1_row4_col3\" class=\"data row4 col3\" >male</td>\n",
       "      <td id=\"T_0c0b1_row4_col4\" class=\"data row4 col4\" >33.000000</td>\n",
       "      <td id=\"T_0c0b1_row4_col5\" class=\"data row4 col5\" >nan</td>\n",
       "      <td id=\"T_0c0b1_row4_col6\" class=\"data row4 col6\" >113790</td>\n",
       "      <td id=\"T_0c0b1_row4_col7\" class=\"data row4 col7\" >S</td>\n",
       "      <td id=\"T_0c0b1_row4_col8\" class=\"data row4 col8\" >26.550000</td>\n",
       "      <td id=\"T_0c0b1_row4_col9\" class=\"data row4 col9\" >0.502692</td>\n",
       "      <td id=\"T_0c0b1_row4_col10\" class=\"data row4 col10\" >0</td>\n",
       "    </tr>\n",
       "    <tr>\n",
       "      <td id=\"T_0c0b1_row5_col0\" class=\"data row5 col0\" >3</td>\n",
       "      <td id=\"T_0c0b1_row5_col1\" class=\"data row5 col1\" >Henriksson</td>\n",
       "      <td id=\"T_0c0b1_row5_col2\" class=\"data row5 col2\" >Miss</td>\n",
       "      <td id=\"T_0c0b1_row5_col3\" class=\"data row5 col3\" >female</td>\n",
       "      <td id=\"T_0c0b1_row5_col4\" class=\"data row5 col4\" >28.000000</td>\n",
       "      <td id=\"T_0c0b1_row5_col5\" class=\"data row5 col5\" >nan</td>\n",
       "      <td id=\"T_0c0b1_row5_col6\" class=\"data row5 col6\" >347086</td>\n",
       "      <td id=\"T_0c0b1_row5_col7\" class=\"data row5 col7\" >S</td>\n",
       "      <td id=\"T_0c0b1_row5_col8\" class=\"data row5 col8\" >7.775000</td>\n",
       "      <td id=\"T_0c0b1_row5_col9\" class=\"data row5 col9\" >0.506196</td>\n",
       "      <td id=\"T_0c0b1_row5_col10\" class=\"data row5 col10\" >1</td>\n",
       "    </tr>\n",
       "  </tbody>\n",
       "</table>\n"
      ],
      "text/plain": [
       "<pandas.io.formats.style.Styler at 0x117c7a750>"
      ]
     },
     "execution_count": 12,
     "metadata": {},
     "output_type": "execute_result"
    }
   ],
   "source": [
    "df_test = pd.read_csv(f\"../data/kaggle/test.clean.{datestamp}.csv\")\n",
    "\n",
    "y_proba = model.predict_proba(df_test[x_colnames])\n",
    "y_preds = (y_proba[:,1] > test_threshold).astype(int)\n",
    "\n",
    "df_test[\"SurvivedProbability\"] = y_proba[:,1]\n",
    "df_test[\"Survived\"] = y_preds\n",
    "\n",
    "df_test_sub = df_test[ (df_test[\"SurvivedProbability\"] < test_threshold + 0.1) & \\\n",
    "                       (df_test[\"SurvivedProbability\"] > test_threshold - 0.1) ] \\\n",
    "                .sort_values(by=\"SurvivedProbability\") \\\n",
    "                .reset_index()\n",
    "\n",
    "df_closest = df_test_sub.iloc[(df_test_sub[\"SurvivedProbability\"] - test_threshold).abs().argsort()[:6]].sort_values(by=\"SurvivedProbability\")\n",
    "\n",
    "df_closest[[ \"Pclass\", \"LastName\", \"Title\", \"Sex\", \"Age\", \"Cabin\", \"Ticket\", \"Embarked\", \"FarePerPerson\", \"SurvivedProbability\", \"Survived\" ]].style.hide(axis=\"index\")"
   ]
  },
  {
   "cell_type": "markdown",
   "id": "58c04462-61cd-4d7a-89c0-233e2e953e53",
   "metadata": {},
   "source": [
    "## Write Output to File"
   ]
  },
  {
   "cell_type": "code",
   "execution_count": 13,
   "id": "ff1d823d-64f6-4b18-9540-c6c039970871",
   "metadata": {},
   "outputs": [],
   "source": [
    "df_test[[\"PassengerId\", \"Survived\"]].to_csv(f\"../data/kaggle/submit.boosting.csv\", index=False)"
   ]
  }
 ],
 "metadata": {
  "kernelspec": {
   "display_name": "Python 3 (ipykernel)",
   "language": "python",
   "name": "python3"
  },
  "language_info": {
   "codemirror_mode": {
    "name": "ipython",
    "version": 3
   },
   "file_extension": ".py",
   "mimetype": "text/x-python",
   "name": "python",
   "nbconvert_exporter": "python",
   "pygments_lexer": "ipython3",
   "version": "3.12.7"
  }
 },
 "nbformat": 4,
 "nbformat_minor": 5
}
