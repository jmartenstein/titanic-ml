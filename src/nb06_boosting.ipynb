{
 "cells": [
  {
   "cell_type": "markdown",
   "id": "76c94146-3e52-423e-ba85-ad4e0e2b3237",
   "metadata": {},
   "source": [
    "Explore Features with Gradient Tree Boosting\n",
    "============================================\n",
    "\n",
    "There are roughly 30 features generated from the data cleaning script. This model will explore feature performance through training and tuning a gradient boosting classifier model."
   ]
  },
  {
   "cell_type": "code",
   "execution_count": 12,
   "id": "1abab66f-81ba-432d-b5db-d9fcded719c4",
   "metadata": {},
   "outputs": [
    {
     "name": "stdout",
     "output_type": "stream",
     "text": [
      "(891, 32)\n"
     ]
    }
   ],
   "source": [
    "# set up code and dataframe with training data\n",
    "import pandas as pd\n",
    "import numpy as np\n",
    "import statistics as st\n",
    "\n",
    "import sklearn.metrics as ms\n",
    "import sklearn.ensemble as en\n",
    "import sklearn.model_selection as mds\n",
    "import matplotlib.pyplot as plt\n",
    "\n",
    "from scipy import interpolate\n",
    "\n",
    "datestamp = \"20250215.112744\"\n",
    "df_ = pd.read_csv(f\"../data/kaggle/train.clean.{datestamp}.csv\")\n",
    "print(df_.shape)"
   ]
  },
  {
   "cell_type": "code",
   "execution_count": 13,
   "id": "b414ad08-1a9f-4e92-9b30-f2cd01c87f8d",
   "metadata": {},
   "outputs": [
    {
     "name": "stdout",
     "output_type": "stream",
     "text": [
      "<class 'pandas.core.frame.DataFrame'>\n",
      "RangeIndex: 891 entries, 0 to 890\n",
      "Data columns (total 6 columns):\n",
      " #   Column     Non-Null Count  Dtype  \n",
      "---  ------     --------------  -----  \n",
      " 0   Mr         891 non-null    int64  \n",
      " 1   Miss       891 non-null    int64  \n",
      " 2   Pclass     891 non-null    int64  \n",
      " 3   FppRobust  891 non-null    float64\n",
      " 4   AgeMinMax  891 non-null    float64\n",
      " 5   IsMale     891 non-null    int64  \n",
      "dtypes: float64(2), int64(4)\n",
      "memory usage: 41.9 KB\n",
      "None\n"
     ]
    }
   ],
   "source": [
    "#columns_to_drop = [ \"Survived\", \"Name\", \"Title\", \"LastName\", \"Cabin\", \n",
    "#                    \"Ticket\", \"Sex\", \"Embarked\", \"Age\", \"PassengerId\",\n",
    "#                    \"FarePerPerson\", \"AgeImputed\", \"Fare\", \"SexOrd\" ]\n",
    "#columns_to_drop += [ \"AgeRobust\", \"FppMinMax\", \"TitleOrd\" ]\n",
    "#x_colnames = [i for i in df_.columns if i not in columns_to_drop]\n",
    "x_colnames = [ \"Mr\", \"Miss\", \"Pclass\", \"FppRobust\", \"AgeMinMax\", \"IsMale\"  ]\n",
    "y_colname = [ \"Survived\" ]\n",
    "\n",
    "X = df_[ x_colnames ]\n",
    "y = df_[ y_colname ].values.ravel()\n",
    "\n",
    "print(X.info())\n",
    "\n",
    "# Assuming you have your features in X and your target variable in y\n",
    "X_train, X_test, y_train, y_test = mds.train_test_split(X, y, test_size=0.3)"
   ]
  },
  {
   "cell_type": "code",
   "execution_count": 14,
   "id": "a35783a9-d87c-4b76-9a9b-a2c61e324b1b",
   "metadata": {},
   "outputs": [
    {
     "name": "stdout",
     "output_type": "stream",
     "text": [
      "Best Params: {'subsample': 0.7, 'n_estimators': 50, 'min_samples_split': 125, 'min_samples_leaf': 80, 'max_features': 3, 'max_depth': 3, 'learning_rate': 0.7}\n"
     ]
    }
   ],
   "source": [
    "num_folds = 5\n",
    "s_scoring = \"balanced_accuracy\"\n",
    "\n",
    "param_dist = {\n",
    "    'learning_rate':     [ 0.7 ],\n",
    "    'max_features':      [ 3 ],\n",
    "    'n_estimators':      [ 50, 75, 100, 125, 150 ],\n",
    "    'max_depth':         [ 3, 4, 5, 6, 7, 8 ],\n",
    "    'min_samples_split': [ 125, 150, 175 ],\n",
    "    'min_samples_leaf':  [ 60, 70, 80, 90, 100 ],\n",
    "    'subsample':         [ 0.7 ],\n",
    "}\n",
    "\n",
    "gb_clf = en.GradientBoostingClassifier()\n",
    "random_search = mds.RandomizedSearchCV( estimator=gb_clf,\n",
    "                                        param_distributions=param_dist,\n",
    "                                        n_iter=20,\n",
    "                                        cv=num_folds,\n",
    "                                        scoring=s_scoring,\n",
    "                                        n_jobs=-1 )\n",
    "\n",
    "random_search.fit(X_train, y_train)\n",
    "best_params = random_search.best_params_\n",
    "model = random_search.best_estimator_\n",
    "\n",
    "print(f\"Best Params: {best_params}\")"
   ]
  },
  {
   "cell_type": "code",
   "execution_count": 15,
   "id": "fb7d1003-f90a-4e2e-acca-080976a840d8",
   "metadata": {},
   "outputs": [
    {
     "name": "stdout",
     "output_type": "stream",
     "text": [
      "     Feature  Gini Importance\n",
      "0         Mr         0.490346\n",
      "3  FppRobust         0.205885\n",
      "4  AgeMinMax         0.142187\n",
      "2     Pclass         0.096185\n",
      "5     IsMale         0.059324\n",
      "1       Miss         0.006073\n"
     ]
    }
   ],
   "source": [
    "importances = model.feature_importances_\n",
    "feature_imp_df = pd.DataFrame(\n",
    "    {'Feature': x_colnames, 'Gini Importance': importances} ).sort_values(\n",
    "         'Gini Importance', ascending=False)\n",
    "print(feature_imp_df)"
   ]
  },
  {
   "cell_type": "code",
   "execution_count": 16,
   "id": "3a177fb4-dce3-4097-a2a6-7b75feae89ee",
   "metadata": {},
   "outputs": [
    {
     "name": "stdout",
     "output_type": "stream",
     "text": [
      "Test AUC 0.852\n",
      "Test optimal threshold 0.509 at tpr: 0.711, fpr: 0.129\n"
     ]
    }
   ],
   "source": [
    "# calculate test ROC curve\n",
    "y_test_preds_proba  = model.predict_proba(X_test)\n",
    "\n",
    "test_fpr, test_tpr, test_thresh = ms.roc_curve(y_test, y_test_preds_proba[:,1])\n",
    "test_roc_auc = ms.auc(test_fpr, test_tpr)\n",
    "\n",
    "# Calculate the geometric mean\n",
    "test_gmeans = np.sqrt(test_tpr * (1 - test_fpr))\n",
    "\n",
    "# Locate the index of the largest gmean\n",
    "test_index = np.argmax(test_gmeans)\n",
    "test_threshold = test_thresh[test_index]\n",
    "\n",
    "test_tpr_intrp = interpolate.interp1d(test_thresh, test_tpr)\n",
    "test_fpr_intrp = interpolate.interp1d(test_thresh, test_fpr)\n",
    "\n",
    "print(f\"Test AUC {round(test_roc_auc,3)}\")\n",
    "print(f\"Test optimal threshold {round(test_threshold,3)} at \" \\\n",
    "      f\"tpr: {np.round(test_tpr_intrp(test_threshold),3)}, \" \\\n",
    "      f\"fpr: {np.round(test_fpr_intrp(test_threshold),3)}\")"
   ]
  },
  {
   "cell_type": "code",
   "execution_count": 17,
   "id": "aeafd5fa-3778-4b71-9086-bdcb30624d87",
   "metadata": {},
   "outputs": [
    {
     "name": "stdout",
     "output_type": "stream",
     "text": [
      "Train AUC 0.931\n",
      "Train optimal threshold 0.332 at tpr: 0.869, fpr: 0.167\n"
     ]
    }
   ],
   "source": [
    "y_train_preds_proba = model.predict_proba(X_train)\n",
    "\n",
    "train_fpr, train_tpr, train_thresh = ms.roc_curve(y_train, y_train_preds_proba[:,1])\n",
    "train_roc_auc = ms.auc(train_fpr, train_tpr)\n",
    "\n",
    "# Calculate the geometric mean\n",
    "gmeans = np.sqrt(train_tpr * (1 - train_fpr))\n",
    "\n",
    "# Locate the index of the largest gmean\n",
    "index = np.argmax(gmeans)\n",
    "train_threshold = train_thresh[index]\n",
    "\n",
    "train_tpr_intrp = interpolate.interp1d(train_thresh, train_tpr)\n",
    "train_fpr_intrp = interpolate.interp1d(train_thresh, train_fpr)\n",
    "\n",
    "print(f\"Train AUC {round(train_roc_auc,3)}\")\n",
    "print(f\"Train optimal threshold {round(train_threshold,3)} at \" \\\n",
    "      f\"tpr: {np.round(train_tpr_intrp(train_threshold),3)}, \" \\\n",
    "      f\"fpr: {np.round(train_fpr_intrp(train_threshold),3)}\")"
   ]
  },
  {
   "cell_type": "code",
   "execution_count": 18,
   "id": "df276512-d3ed-40eb-ac41-587c465bff49",
   "metadata": {},
   "outputs": [
    {
     "name": "stdout",
     "output_type": "stream",
     "text": [
      "Confusion Matrix, at Threshold 0.509\n",
      "  tn 149  fp 22 \n",
      "  fn 29   tp 68 \n",
      "\n",
      "Bal Acc: 0.786, Pre: 0.756, Rec: 0.701, F1 Micro: 0.81\n"
     ]
    }
   ],
   "source": [
    "y_test_preds = (y_test_preds_proba[:,1] > test_threshold).astype(int)\n",
    "\n",
    "tn, fp, fn, tp = ms.confusion_matrix(y_test, y_test_preds).ravel()\n",
    "print(f\"Confusion Matrix, at Threshold {test_threshold:.3f}\")\n",
    "print(f\"  tn {tn:<3}  fp {fp:<3}\")\n",
    "print(f\"  fn {fn:<3}  tp {tp:<3}\")\n",
    "print()\n",
    "\n",
    "bal_acc   = round( ms.balanced_accuracy_score( y_test, y_test_preds ), 3 )\n",
    "precision = round( ms.precision_score( y_test, y_test_preds ), 3 )\n",
    "recall    = round( ms.recall_score( y_test, y_test_preds ), 3 )\n",
    "f1        = round( ms.f1_score( y_test, y_test_preds, average='micro' ), 3 )\n",
    "\n",
    "s_scores = f\"Bal Acc: {bal_acc}, Pre: {precision}, Rec: {recall}, F1 Micro: {f1}\"\n",
    "print(s_scores)"
   ]
  },
  {
   "cell_type": "code",
   "execution_count": 19,
   "id": "bf248dc9-0544-4e33-a424-3c937cc498c5",
   "metadata": {},
   "outputs": [],
   "source": [
    "# Define the desired operating point (FPR, TPR)\n",
    "test_operating_point_fpr = test_fpr_intrp(test_threshold)\n",
    "test_operating_point_tpr = test_tpr_intrp(test_threshold)\n",
    "\n",
    "# Find the closest threshold to the desired operating point\n",
    "distances = (test_fpr - test_operating_point_fpr)**2 + (test_tpr - test_operating_point_tpr)**2\n",
    "closest_index = distances.argmin()\n",
    "test_operating_point_threshold = test_thresh[closest_index]"
   ]
  },
  {
   "cell_type": "code",
   "execution_count": 20,
   "id": "3472394d-7f06-437e-9caf-95bb5c4d79d5",
   "metadata": {},
   "outputs": [],
   "source": [
    "# Define the desired operating point (FPR, TPR)\n",
    "train_operating_point_fpr = train_fpr_intrp(train_threshold)\n",
    "train_operating_point_tpr = train_tpr_intrp(train_threshold)\n",
    "\n",
    "# Find the closest threshold to the desired operating point\n",
    "distances = (train_fpr - train_operating_point_fpr)**2 + (train_tpr - train_operating_point_tpr)**2\n",
    "closest_index = distances.argmin()\n",
    "train_operating_point_threshold = train_thresh[closest_index]"
   ]
  },
  {
   "cell_type": "code",
   "execution_count": 21,
   "id": "78241820-7225-41a1-b16b-44b8c145499e",
   "metadata": {},
   "outputs": [
    {
     "data": {
      "image/png": "[encoded data removed]",
      "text/plain": [
       "<Figure size 640x480 with 1 Axes>"
      ]
     },
     "metadata": {},
     "output_type": "display_data"
    }
   ],
   "source": [
    "plt.title('Receiver Operating Characteristic')\n",
    "\n",
    "plt.plot(test_fpr, test_tpr, 'b', label = 'Test AUC = %0.3f' % test_roc_auc)\n",
    "plt.plot(train_fpr, train_tpr, 'g', label = 'Train AUC = %0.3f' % train_roc_auc)\n",
    "plt.plot([0, 1], [0, 1],'r--')\n",
    "\n",
    "plt.plot(test_operating_point_fpr,test_operating_point_tpr, 'bo', label=f'Test Operating Point')\n",
    "plt.plot(train_operating_point_fpr,train_operating_point_tpr, 'go', label=f'Train Operating Point')\n",
    "\n",
    "plt.xlim([0, 1])\n",
    "plt.ylim([0, 1])\n",
    "plt.ylabel('True Positive Rate')\n",
    "plt.xlabel('False Positive Rate')\n",
    "\n",
    "plt.legend(loc = 'lower right')\n",
    "plt.show()"
   ]
  },
  {
   "cell_type": "code",
   "execution_count": 22,
   "id": "900a8ae2-c2bc-43a1-bbfa-f66f1a9e2678",
   "metadata": {},
   "outputs": [
    {
     "name": "stdout",
     "output_type": "stream",
     "text": [
      "0.5091737206291982\n"
     ]
    }
   ],
   "source": [
    "print(test_threshold)\n",
    "\n",
    "df_test = pd.read_csv(f\"../data/kaggle/test.clean.{datestamp}.csv\")\n",
    "\n",
    "y_proba = model.predict_proba(df_test[x_colnames])\n",
    "y_preds = (y_proba[:,1] > test_threshold).astype(int)\n",
    "\n",
    "df_test[\"SurvivedProbability\"] = y_proba[:,1]\n",
    "df_test[\"Survived\"] = y_preds\n",
    "\n",
    "#print(df_test[x_colnames + [\"SurvivedProbability\"]])\n",
    "\n",
    "df_test[[\"PassengerId\", \"Survived\"]].to_csv(f\"../data/kaggle/submit.boosting.csv\", index=False)"
   ]
  }
 ],
 "metadata": {
  "kernelspec": {
   "display_name": "Python 3 (ipykernel)",
   "language": "python",
   "name": "python3"
  },
  "language_info": {
   "codemirror_mode": {
    "name": "ipython",
    "version": 3
   },
   "file_extension": ".py",
   "mimetype": "text/x-python",
   "name": "python",
   "nbconvert_exporter": "python",
   "pygments_lexer": "ipython3",
   "version": "3.12.7"
  }
 },
 "nbformat": 4,
 "nbformat_minor": 5
}
