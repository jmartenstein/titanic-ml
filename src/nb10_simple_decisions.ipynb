{
 "cells": [
  {
   "cell_type": "markdown",
   "id": "1bd02865-d884-4381-9237-0b3c1e3bae23",
   "metadata": {},
   "source": [
    "Feature Engineering for a Simple Decision Tree\n",
    "==============================================\n",
    "\n",
    "This notebook explores feature engineering along with a relatively simple decision tree model, to exceed the leaderboard performance of the existing gender submission file and get a 0.78708 score, in the top 20% of the leaderboard."
   ]
  },
  {
   "cell_type": "code",
   "execution_count": 1,
   "id": "8c5839e5-37d3-40fb-82ce-ce4aca0f08ce",
   "metadata": {},
   "outputs": [],
   "source": [
    "# import libraries and set constants\n",
    "import pandas as pd\n",
    "import numpy as np\n",
    "import statistics as st\n",
    "\n",
    "import sklearn.metrics as ms\n",
    "import sklearn.tree as tr\n",
    "import sklearn.preprocessing as pre\n",
    "import sklearn.impute as imp\n",
    "import sklearn.model_selection as mds\n",
    "\n",
    "from scipy import interpolate\n",
    "import matplotlib.pyplot as plt\n",
    "\n",
    "DATA_DIR = f\"../data/kaggle/\""
   ]
  },
  {
   "cell_type": "code",
   "execution_count": 2,
   "id": "3dc7f4fd-2772-4c11-894c-2a68681efec6",
   "metadata": {},
   "outputs": [],
   "source": [
    "df_train = pd.read_csv( DATA_DIR + \"train.csv\" )\n",
    "df_test = pd.read_csv( DATA_DIR + \"test.csv\" )"
   ]
  },
  {
   "cell_type": "markdown",
   "id": "9aba8d3e-2955-4e58-8728-253d3262e56a",
   "metadata": {},
   "source": [
    "# Feature Engineering\n",
    "\n",
    "The model will perform better with some initial data preprocessing. This notebook starts with extracting the last name and the title from the name column. To ensure that our training set and our test set have the same features, we combine the two."
   ]
  },
  {
   "cell_type": "code",
   "execution_count": 3,
   "id": "490c46ba-6b7e-4ef3-8da5-db276a32cdf7",
   "metadata": {},
   "outputs": [
    {
     "name": "stdout",
     "output_type": "stream",
     "text": [
      "(1309, 12)\n"
     ]
    }
   ],
   "source": [
    "df_ = pd.concat([df_train, df_test])\n",
    "print(df_.shape)"
   ]
  },
  {
   "cell_type": "markdown",
   "id": "dbeb0fcc-7ff0-4d8a-87d0-15af1c84a47f",
   "metadata": {},
   "source": [
    "## Extract Title and Last Name"
   ]
  },
  {
   "cell_type": "code",
   "execution_count": 4,
   "id": "9ba75c8f-03ce-44ea-b4c3-852a4460f2dd",
   "metadata": {},
   "outputs": [],
   "source": [
    "def split_last_name( row ):\n",
    "    l_subs = row['Name'].split(r', ')\n",
    "    return l_subs\n",
    "\n",
    "def split_title( row ):\n",
    "    l_subs = row[1].split(r'. ')\n",
    "    if len(l_subs) > 2:\n",
    "        l_subs[1] = f\"{l_subs[1]} {l_subs[2]}\"\n",
    "        l_subs.pop()\n",
    "    return l_subs\n",
    "\n",
    "def get_other_titles( row ):\n",
    "\n",
    "    l_titles = [ 'Mr', 'Mrs', 'Miss', 'Master' ]\n",
    "    s_title = row['TitleGrp']\n",
    "\n",
    "    if (not s_title in l_titles):\n",
    "        if row['Sex'] == 'male':\n",
    "            return 'OtherMale'\n",
    "        else:\n",
    "            return 'OtherFemale'\n",
    "    else:\n",
    "        return s_title\n",
    "\n",
    "df_temp_name = df_.apply( split_last_name, axis=1, result_type='expand' )\n",
    "df_temp_title = df_temp_name.apply( split_title, axis=1, result_type='expand' )\n",
    "\n",
    "df_[\"LastName\"] = df_temp_name[0]\n",
    "df_[\"Title\"] = df_temp_title[0]\n",
    "\n",
    "df_['TitleGrp'] = df_['Title']\n",
    "df_['TitleGrp'] = df_.apply( get_other_titles, axis=1 )"
   ]
  },
  {
   "cell_type": "code",
   "execution_count": 5,
   "id": "decf595f-76f4-4c21-93ac-0b62f5d3b276",
   "metadata": {},
   "outputs": [
    {
     "data": {
      "text/html": [
       "<style type=\"text/css\">\n",
       "</style>\n",
       "<table id=\"T_3132a\">\n",
       "  <thead>\n",
       "    <tr>\n",
       "      <th id=\"T_3132a_level0_col0\" class=\"col_heading level0 col0\" >TitleGrp</th>\n",
       "      <th id=\"T_3132a_level0_col1\" class=\"col_heading level0 col1\" >LastName</th>\n",
       "      <th id=\"T_3132a_level0_col2\" class=\"col_heading level0 col2\" >Name</th>\n",
       "    </tr>\n",
       "  </thead>\n",
       "  <tbody>\n",
       "    <tr>\n",
       "      <td id=\"T_3132a_row0_col0\" class=\"data row0 col0\" >Mr</td>\n",
       "      <td id=\"T_3132a_row0_col1\" class=\"data row0 col1\" >Braund</td>\n",
       "      <td id=\"T_3132a_row0_col2\" class=\"data row0 col2\" >Braund, Mr. Owen Harris</td>\n",
       "    </tr>\n",
       "    <tr>\n",
       "      <td id=\"T_3132a_row1_col0\" class=\"data row1 col0\" >Mrs</td>\n",
       "      <td id=\"T_3132a_row1_col1\" class=\"data row1 col1\" >Cumings</td>\n",
       "      <td id=\"T_3132a_row1_col2\" class=\"data row1 col2\" >Cumings, Mrs. John Bradley (Florence Briggs Thayer)</td>\n",
       "    </tr>\n",
       "    <tr>\n",
       "      <td id=\"T_3132a_row2_col0\" class=\"data row2 col0\" >Miss</td>\n",
       "      <td id=\"T_3132a_row2_col1\" class=\"data row2 col1\" >Heikkinen</td>\n",
       "      <td id=\"T_3132a_row2_col2\" class=\"data row2 col2\" >Heikkinen, Miss. Laina</td>\n",
       "    </tr>\n",
       "    <tr>\n",
       "      <td id=\"T_3132a_row3_col0\" class=\"data row3 col0\" >Mrs</td>\n",
       "      <td id=\"T_3132a_row3_col1\" class=\"data row3 col1\" >Futrelle</td>\n",
       "      <td id=\"T_3132a_row3_col2\" class=\"data row3 col2\" >Futrelle, Mrs. Jacques Heath (Lily May Peel)</td>\n",
       "    </tr>\n",
       "    <tr>\n",
       "      <td id=\"T_3132a_row4_col0\" class=\"data row4 col0\" >Mr</td>\n",
       "      <td id=\"T_3132a_row4_col1\" class=\"data row4 col1\" >Allen</td>\n",
       "      <td id=\"T_3132a_row4_col2\" class=\"data row4 col2\" >Allen, Mr. William Henry</td>\n",
       "    </tr>\n",
       "  </tbody>\n",
       "</table>\n"
      ],
      "text/plain": [
       "<pandas.io.formats.style.Styler at 0x1274d4770>"
      ]
     },
     "execution_count": 5,
     "metadata": {},
     "output_type": "execute_result"
    }
   ],
   "source": [
    "df_[[\"TitleGrp\", \"LastName\", \"Name\"]].head(5).style.hide(axis=\"index\")"
   ]
  },
  {
   "cell_type": "code",
   "execution_count": 6,
   "id": "2301a057-11d7-4808-8fdf-bf6a51574c42",
   "metadata": {},
   "outputs": [
    {
     "data": {
      "image/png": "[encoded data removed]",
      "text/plain": [
       "<Figure size 640x480 with 1 Axes>"
      ]
     },
     "metadata": {},
     "output_type": "display_data"
    }
   ],
   "source": [
    "# transform the dataframe, so that it can be properly graphed as a bar plot\n",
    "s_title_count = df_.groupby([\"TitleGrp\", \"Survived\"])[\"TitleGrp\"].count()\n",
    "df_title_survived = s_title_count.unstack(\"Survived\")\n",
    "\n",
    "# replace any n/a values with zeroes, and sort the bars by the number of people who died\n",
    "df_title_survived.fillna(0)\n",
    "df_title_survived.sort_values(by=0, inplace=True, ascending=False)\n",
    "\n",
    "# plot the bar plot\n",
    "df_title_survived.plot(kind='bar')\n",
    "plt.legend([\"Died\", \"Survived\"])\n",
    "plt.xticks(rotation=30, ha='right')\n",
    "plt.show()"
   ]
  },
  {
   "cell_type": "markdown",
   "id": "1d5edaf8-0bb2-4957-b68f-dd06b0f5cf2f",
   "metadata": {},
   "source": [
    "This model will combine the occurrence of the \"Mr\" title and the \"OtherMale\" title, since those seem to have similar survival rates. This feature will be binary (1 or 0) to make the Decision Tree model more clear."
   ]
  },
  {
   "cell_type": "code",
   "execution_count": 7,
   "id": "f08be806-683a-4629-99b1-ce2393d9b222",
   "metadata": {},
   "outputs": [],
   "source": [
    "df_[\"DeadTitle\"] = df_[\"TitleGrp\"].apply( \n",
    "    lambda v: 1 if (v==\"Mr\") or \\\n",
    "                   (v==\"OtherMale\") \\\n",
    "                else 0\n",
    ")"
   ]
  },
  {
   "cell_type": "markdown",
   "id": "377f716c-6c25-4a5e-a4a3-57e23759a176",
   "metadata": {},
   "source": [
    "## Passenger Class\n",
    "\n",
    "Analysis shows that the passengers in third class had a much lower survival rate than the rest of the passengers. For the purposes of a binary decision tree, the model creates a binary feature of whether a passenger travels in the third class."
   ]
  },
  {
   "cell_type": "code",
   "execution_count": 8,
   "id": "deb3bdec-5822-4512-b371-8d338c517246",
   "metadata": {},
   "outputs": [
    {
     "data": {
      "image/png": "[encoded data removed]",
      "text/plain": [
       "<Figure size 640x480 with 1 Axes>"
      ]
     },
     "metadata": {},
     "output_type": "display_data"
    }
   ],
   "source": [
    "s_pclass_count = df_.groupby([\"Pclass\", \"Survived\"])[\"Pclass\"].count()\n",
    "df_pclass_survived = s_pclass_count.unstack(\"Survived\")\n",
    "\n",
    "df_pclass_survived.plot(kind='bar')\n",
    "\n",
    "plt.legend([\"Died\", \"Survived\"])\n",
    "plt.show()"
   ]
  },
  {
   "cell_type": "code",
   "execution_count": 9,
   "id": "91cfee21-1b81-44e1-be87-290efa507173",
   "metadata": {},
   "outputs": [],
   "source": [
    "df_[\"Pclass3\"] = df_[\"Pclass\"].apply( lambda v: 1 if v == 3 else 0 )\n",
    "df_[\"Pclass2\"] = df_[\"Pclass\"].apply( lambda v: 1 if v == 2 else 0 )\n",
    "df_[\"Pclass1\"] = df_[\"Pclass\"].apply( lambda v: 1 if v == 1 else 0 )"
   ]
  },
  {
   "cell_type": "markdown",
   "id": "d631c768-ee24-4e0a-ae0e-864d53a9e6e4",
   "metadata": {},
   "source": [
    "## Group Size / Ticket Frequency"
   ]
  },
  {
   "cell_type": "code",
   "execution_count": 10,
   "id": "3cf0172a-b7d1-489b-971e-8031ebf0a260",
   "metadata": {
    "jupyter": {
     "source_hidden": true
    }
   },
   "outputs": [],
   "source": [
    "def get_value_frequency(df, col_name):\n",
    "\n",
    "    col_freq = df[[col_name]].value_counts()\n",
    "    df_freq = col_freq.reset_index()\n",
    "\n",
    "    freq_col_name = col_name + \"Frequency\"\n",
    "    df_freq.columns = [col_name, freq_col_name]\n",
    "\n",
    "    return df_freq"
   ]
  },
  {
   "cell_type": "code",
   "execution_count": 11,
   "id": "30feffff-d0ac-4dc0-85d6-e1e64ff56d1a",
   "metadata": {},
   "outputs": [],
   "source": [
    "df_frequency = get_value_frequency( df_, \"Ticket\")\n",
    "df_ = pd.merge(df_, df_frequency, how='left', on=\"Ticket\")"
   ]
  },
  {
   "cell_type": "code",
   "execution_count": 12,
   "id": "791bb0f7-9349-46e9-82f4-f63936fdaf07",
   "metadata": {},
   "outputs": [
    {
     "data": {
      "image/png": "[encoded data removed]",
      "text/plain": [
       "<Figure size 640x480 with 1 Axes>"
      ]
     },
     "metadata": {},
     "output_type": "display_data"
    }
   ],
   "source": [
    "s_freq_count = df_.groupby([\"TicketFrequency\", \"Survived\"])[\"TicketFrequency\"].count()\n",
    "df_freq_survived = s_freq_count.unstack(\"Survived\")\n",
    "\n",
    "df_freq_survived.plot(kind='bar')\n",
    "\n",
    "plt.legend([\"Died\", \"Survived\"])\n",
    "plt.show()"
   ]
  },
  {
   "cell_type": "markdown",
   "id": "543bcccd-f50c-46d5-bfa1-747dca2a9554",
   "metadata": {},
   "source": [
    "Based on the graph above, there is clearly a difference in survival rates between 3 groups: \n",
    "solo travellers, small groups (2-4) and large groups (5 and above). With that in mind, we can set those \n",
    "three variables in our data set."
   ]
  },
  {
   "cell_type": "code",
   "execution_count": 13,
   "id": "142649fe-7c82-431d-8a81-538dd153d672",
   "metadata": {},
   "outputs": [],
   "source": [
    "df_[\"Solo\"] = df_[\"TicketFrequency\"].apply( lambda v: 1 if v==1 else 0 )\n",
    "df_[\"SmallGroup\"] = df_[\"TicketFrequency\"].apply( lambda v: 1 if (v<=4 and v>=2) else 0 )\n",
    "df_[\"LargeGroup\"] = df_[\"TicketFrequency\"].apply( lambda v: 1 if (v>5) else 0 )"
   ]
  },
  {
   "cell_type": "markdown",
   "id": "fb007dc0-bfae-427c-a591-30402255909b",
   "metadata": {},
   "source": [
    "## Embark Location"
   ]
  },
  {
   "cell_type": "code",
   "execution_count": 14,
   "id": "cf33f9eb-a184-4543-b4c2-3ca19adbc1d1",
   "metadata": {
    "jupyter": {
     "source_hidden": true
    }
   },
   "outputs": [],
   "source": [
    "def get_column_dummies( df, s_column ):\n",
    "\n",
    "    df_temp = pd.DataFrame(df[[\"PassengerId\", s_column ]])\n",
    "\n",
    "    df_dummies = pd.get_dummies(df_temp[s_column])\n",
    "    df_dummies[\"PassengerId\"] = df_temp['PassengerId']\n",
    "    df_dummies = df_dummies.map(lambda x: int(x))\n",
    "\n",
    "    return df_dummies"
   ]
  },
  {
   "cell_type": "code",
   "execution_count": 15,
   "id": "834e43eb-3273-466e-a376-8b701fee5c6d",
   "metadata": {},
   "outputs": [],
   "source": [
    "# there are two missing Embarked values; since \"S\" is the most common, we'll fill them in with that\n",
    "df_[\"Embarked\"] = df_[\"Embarked\"].fillna(value=\"S\")\n",
    "\n",
    "# one method \n",
    "df_embarked = get_column_dummies( df_, 'Embarked' )\n",
    "for i in [\"C\", \"Q\", \"S\" ]:\n",
    "    df_[\"Embark\" + i ] = df_embarked[i]\n",
    "\n",
    "enc = pre.OrdinalEncoder()\n",
    "df_[\"EmbarkOrd\"] = enc.fit_transform(df_[[\"Embarked\"]])"
   ]
  },
  {
   "cell_type": "code",
   "execution_count": 16,
   "id": "2282c290-6c79-4640-9dc2-f3d524f560a4",
   "metadata": {},
   "outputs": [
    {
     "data": {
      "text/html": [
       "<style type=\"text/css\">\n",
       "</style>\n",
       "<table id=\"T_0488a\">\n",
       "  <thead>\n",
       "    <tr>\n",
       "      <th id=\"T_0488a_level0_col0\" class=\"col_heading level0 col0\" >LastName</th>\n",
       "      <th id=\"T_0488a_level0_col1\" class=\"col_heading level0 col1\" >Pclass</th>\n",
       "      <th id=\"T_0488a_level0_col2\" class=\"col_heading level0 col2\" >EmbarkOrd</th>\n",
       "      <th id=\"T_0488a_level0_col3\" class=\"col_heading level0 col3\" >EmbarkC</th>\n",
       "      <th id=\"T_0488a_level0_col4\" class=\"col_heading level0 col4\" >EmbarkQ</th>\n",
       "      <th id=\"T_0488a_level0_col5\" class=\"col_heading level0 col5\" >EmbarkS</th>\n",
       "    </tr>\n",
       "  </thead>\n",
       "  <tbody>\n",
       "    <tr>\n",
       "      <td id=\"T_0488a_row0_col0\" class=\"data row0 col0\" >Braund</td>\n",
       "      <td id=\"T_0488a_row0_col1\" class=\"data row0 col1\" >3</td>\n",
       "      <td id=\"T_0488a_row0_col2\" class=\"data row0 col2\" >2.000000</td>\n",
       "      <td id=\"T_0488a_row0_col3\" class=\"data row0 col3\" >0</td>\n",
       "      <td id=\"T_0488a_row0_col4\" class=\"data row0 col4\" >0</td>\n",
       "      <td id=\"T_0488a_row0_col5\" class=\"data row0 col5\" >1</td>\n",
       "    </tr>\n",
       "    <tr>\n",
       "      <td id=\"T_0488a_row1_col0\" class=\"data row1 col0\" >Cumings</td>\n",
       "      <td id=\"T_0488a_row1_col1\" class=\"data row1 col1\" >1</td>\n",
       "      <td id=\"T_0488a_row1_col2\" class=\"data row1 col2\" >0.000000</td>\n",
       "      <td id=\"T_0488a_row1_col3\" class=\"data row1 col3\" >1</td>\n",
       "      <td id=\"T_0488a_row1_col4\" class=\"data row1 col4\" >0</td>\n",
       "      <td id=\"T_0488a_row1_col5\" class=\"data row1 col5\" >0</td>\n",
       "    </tr>\n",
       "    <tr>\n",
       "      <td id=\"T_0488a_row2_col0\" class=\"data row2 col0\" >Heikkinen</td>\n",
       "      <td id=\"T_0488a_row2_col1\" class=\"data row2 col1\" >3</td>\n",
       "      <td id=\"T_0488a_row2_col2\" class=\"data row2 col2\" >2.000000</td>\n",
       "      <td id=\"T_0488a_row2_col3\" class=\"data row2 col3\" >0</td>\n",
       "      <td id=\"T_0488a_row2_col4\" class=\"data row2 col4\" >0</td>\n",
       "      <td id=\"T_0488a_row2_col5\" class=\"data row2 col5\" >1</td>\n",
       "    </tr>\n",
       "    <tr>\n",
       "      <td id=\"T_0488a_row3_col0\" class=\"data row3 col0\" >Futrelle</td>\n",
       "      <td id=\"T_0488a_row3_col1\" class=\"data row3 col1\" >1</td>\n",
       "      <td id=\"T_0488a_row3_col2\" class=\"data row3 col2\" >2.000000</td>\n",
       "      <td id=\"T_0488a_row3_col3\" class=\"data row3 col3\" >0</td>\n",
       "      <td id=\"T_0488a_row3_col4\" class=\"data row3 col4\" >0</td>\n",
       "      <td id=\"T_0488a_row3_col5\" class=\"data row3 col5\" >1</td>\n",
       "    </tr>\n",
       "    <tr>\n",
       "      <td id=\"T_0488a_row4_col0\" class=\"data row4 col0\" >Allen</td>\n",
       "      <td id=\"T_0488a_row4_col1\" class=\"data row4 col1\" >3</td>\n",
       "      <td id=\"T_0488a_row4_col2\" class=\"data row4 col2\" >2.000000</td>\n",
       "      <td id=\"T_0488a_row4_col3\" class=\"data row4 col3\" >0</td>\n",
       "      <td id=\"T_0488a_row4_col4\" class=\"data row4 col4\" >0</td>\n",
       "      <td id=\"T_0488a_row4_col5\" class=\"data row4 col5\" >1</td>\n",
       "    </tr>\n",
       "    <tr>\n",
       "      <td id=\"T_0488a_row5_col0\" class=\"data row5 col0\" >Moran</td>\n",
       "      <td id=\"T_0488a_row5_col1\" class=\"data row5 col1\" >3</td>\n",
       "      <td id=\"T_0488a_row5_col2\" class=\"data row5 col2\" >1.000000</td>\n",
       "      <td id=\"T_0488a_row5_col3\" class=\"data row5 col3\" >0</td>\n",
       "      <td id=\"T_0488a_row5_col4\" class=\"data row5 col4\" >1</td>\n",
       "      <td id=\"T_0488a_row5_col5\" class=\"data row5 col5\" >0</td>\n",
       "    </tr>\n",
       "  </tbody>\n",
       "</table>\n"
      ],
      "text/plain": [
       "<pandas.io.formats.style.Styler at 0x12786bda0>"
      ]
     },
     "execution_count": 16,
     "metadata": {},
     "output_type": "execute_result"
    }
   ],
   "source": [
    "df_[[ \"LastName\", \"Pclass\", \"EmbarkOrd\", \"EmbarkC\", \"EmbarkQ\", \"EmbarkS\" ]].head(6).style.hide(axis=\"index\")"
   ]
  },
  {
   "cell_type": "markdown",
   "id": "9dafa0c8-ffa4-43e4-af9f-c2612034f7f3",
   "metadata": {},
   "source": [
    "# Building the Decision Tree Model"
   ]
  },
  {
   "cell_type": "markdown",
   "id": "d5136b68-9cfd-4aae-87be-2c0da7c38203",
   "metadata": {},
   "source": [
    "## Split Train, Validate and Test Data\n",
    "\n",
    "Given that this notebook combined test data with train data for feature engineering, those datasets need to be split apart again. Dividing the training and test sets is easy to do, as the test set contains \"N/A\" for the Survived column. "
   ]
  },
  {
   "cell_type": "code",
   "execution_count": 17,
   "id": "a51566e8-134b-4e8f-9cea-facf1ac70352",
   "metadata": {},
   "outputs": [
    {
     "name": "stdout",
     "output_type": "stream",
     "text": [
      "Clean training data: (891, 27)\n",
      "Clean test data:     (418, 26)\n"
     ]
    }
   ],
   "source": [
    "df_train_clean = df_[ df_[ \"Survived\" ].notna() ].copy()\n",
    "\n",
    "# prep the cleaned test data to write\n",
    "df_test_clean = df_[ df_[ \"Survived\" ].isna() ].copy()\n",
    "df_test_clean.drop( \"Survived\", axis=1, inplace=True )\n",
    "\n",
    "print(f\"Clean training data: {df_train_clean.shape}\")\n",
    "print(f\"Clean test data:     {df_test_clean.shape}\")"
   ]
  },
  {
   "cell_type": "markdown",
   "id": "04a1dd6f-6948-491a-8694-1790363ec800",
   "metadata": {},
   "source": [
    "Once the test set is broken out, then the model uses the sklearn library to further split the training data into a train dataset (X_train, y_train) and a validation (X_test, y_test) dataset."
   ]
  },
  {
   "cell_type": "code",
   "execution_count": 18,
   "id": "6a9de7d7-e262-4f41-b4ef-20cfae2cb3c3",
   "metadata": {},
   "outputs": [],
   "source": [
    "x_colnames = [  \"DeadTitle\", \"Pclass3\",\"Pclass2\", \n",
    "                \"EmbarkS\", \"EmbarkQ\", \"EmbarkC\", \n",
    "                \"Solo\", \"SmallGroup\", \"LargeGroup\" ]\n",
    "y_colname  = [ \"Survived\" ]\n",
    "\n",
    "X = df_train_clean[ x_colnames ]\n",
    "y = df_train_clean[ y_colname ].values.ravel()\n",
    "\n",
    "X_train, X_test, y_train, y_test = mds.train_test_split(X, y, test_size=0.2, random_state=42)"
   ]
  },
  {
   "cell_type": "markdown",
   "id": "2ee5b682-3e1b-4dfa-a514-a2c9ddd36b16",
   "metadata": {},
   "source": [
    "## Train the Model"
   ]
  },
  {
   "cell_type": "code",
   "execution_count": 19,
   "id": "c1143e6a-5c64-48d2-aeeb-dc747d6ed965",
   "metadata": {},
   "outputs": [],
   "source": [
    "# Create a decision tree classifier\n",
    "dtc = tr.DecisionTreeClassifier( criterion='gini',\n",
    "                                 max_depth         = 5,\n",
    "                                 max_leaf_nodes    = 6,\n",
    "                                 min_samples_split = 15,\n",
    "                                 min_samples_leaf  = 10,\n",
    "                                 random_state      = 42\n",
    "                               )\n",
    "\n",
    "# Train the classifier\n",
    "model = dtc.fit(X_train, y_train)"
   ]
  },
  {
   "cell_type": "markdown",
   "id": "f5fbea30-b996-4f23-a53b-7137296469c5",
   "metadata": {},
   "source": [
    "## Visualize the Model"
   ]
  },
  {
   "cell_type": "code",
   "execution_count": 20,
   "id": "b4e96263-dfbe-408e-9483-30e956e05f67",
   "metadata": {},
   "outputs": [
    {
     "data": {
      "image/png": "[encoded data removed]",
      "text/plain": [
       "<Figure size 400x800 with 1 Axes>"
      ]
     },
     "metadata": {},
     "output_type": "display_data"
    }
   ],
   "source": [
    "plt.figure(figsize=(4,8))\n",
    "tr.plot_tree(model, feature_names=x_colnames, class_names=['Dead', 'Alive'], filled=True)\n",
    "plt.show()"
   ]
  },
  {
   "cell_type": "code",
   "execution_count": 22,
   "id": "f0021446-0291-4137-a06e-22d046570bfd",
   "metadata": {},
   "outputs": [
    {
     "data": {
      "text/html": [
       "<style type=\"text/css\">\n",
       "</style>\n",
       "<table id=\"T_c8537\">\n",
       "  <thead>\n",
       "    <tr>\n",
       "      <th id=\"T_c8537_level0_col0\" class=\"col_heading level0 col0\" >Feature</th>\n",
       "      <th id=\"T_c8537_level0_col1\" class=\"col_heading level0 col1\" >Gini Importance</th>\n",
       "    </tr>\n",
       "  </thead>\n",
       "  <tbody>\n",
       "    <tr>\n",
       "      <td id=\"T_c8537_row0_col0\" class=\"data row0 col0\" >DeadTitle</td>\n",
       "      <td id=\"T_c8537_row0_col1\" class=\"data row0 col1\" >0.661821</td>\n",
       "    </tr>\n",
       "    <tr>\n",
       "      <td id=\"T_c8537_row1_col0\" class=\"data row1 col0\" >Pclass3</td>\n",
       "      <td id=\"T_c8537_row1_col1\" class=\"data row1 col1\" >0.219293</td>\n",
       "    </tr>\n",
       "    <tr>\n",
       "      <td id=\"T_c8537_row2_col0\" class=\"data row2 col0\" >LargeGroup</td>\n",
       "      <td id=\"T_c8537_row2_col1\" class=\"data row2 col1\" >0.068107</td>\n",
       "    </tr>\n",
       "    <tr>\n",
       "      <td id=\"T_c8537_row3_col0\" class=\"data row3 col0\" >SmallGroup</td>\n",
       "      <td id=\"T_c8537_row3_col1\" class=\"data row3 col1\" >0.027522</td>\n",
       "    </tr>\n",
       "    <tr>\n",
       "      <td id=\"T_c8537_row4_col0\" class=\"data row4 col0\" >EmbarkS</td>\n",
       "      <td id=\"T_c8537_row4_col1\" class=\"data row4 col1\" >0.023256</td>\n",
       "    </tr>\n",
       "  </tbody>\n",
       "</table>\n"
      ],
      "text/plain": [
       "<pandas.io.formats.style.Styler at 0x1278845f0>"
      ]
     },
     "execution_count": 22,
     "metadata": {},
     "output_type": "execute_result"
    }
   ],
   "source": [
    "importances = model.feature_importances_\n",
    "feature_imp_df = pd.DataFrame(\n",
    "    {'Feature': x_colnames, 'Gini Importance': importances} ).sort_values(\n",
    "         'Gini Importance', ascending=False)\n",
    "\n",
    "feature_imp_df[ feature_imp_df[ 'Gini Importance' ] > 0 ].style.hide(axis=\"index\")"
   ]
  },
  {
   "cell_type": "markdown",
   "id": "01b7ac51-8005-4e0c-a7c5-5b9dc392b4d2",
   "metadata": {},
   "source": [
    "# Analyzing Model Performance\n",
    "\n",
    "There are a number of techniques available to analyze the performance of a model. This notebook uses a [Receiver Operating Characteristic](https://en.wikipedia.org/wiki/Receiver_operating_characteristic) (ROC) curve, to measure the trade-off between the True-Positive Rate (tpr) and the False-Positive Rate (fpr). It charts a similar trade-off between between the Precision and Recall values.\n",
    "\n",
    "From anecdotal testing and exploration, it seems that the Titanic test dataset favors false negatives over false postives, so when a threshold is found, we lean more towards a false negative than a false positive."
   ]
  },
  {
   "cell_type": "code",
   "execution_count": null,
   "id": "33184e63-a82c-4a5b-aa1b-76e1f61d5f3e",
   "metadata": {
    "jupyter": {
     "source_hidden": true
    }
   },
   "outputs": [],
   "source": [
    "def get_roc_curve_info( model, X, y ):\n",
    "\n",
    "    y_preds_proba = model.predict_proba(X)\n",
    "\n",
    "    fpr, tpr, thresh = ms.roc_curve(y, y_preds_proba[:,1])\n",
    "    roc_auc = ms.auc(fpr, tpr)\n",
    "\n",
    "    return roc_auc, fpr, tpr, thresh"
   ]
  },
  {
   "cell_type": "code",
   "execution_count": null,
   "id": "805950ee-3642-43e5-b86b-09508d129c5f",
   "metadata": {
    "jupyter": {
     "source_hidden": true
    }
   },
   "outputs": [],
   "source": [
    "def get_gmeans_threshold( fpr, tpr, thresholds ):\n",
    "\n",
    "    # Calculate the geometric mean\n",
    "    gmeans = np.sqrt(tpr * (1 - fpr))\n",
    "    \n",
    "    # Locate the index of the largest gmean\n",
    "    index = np.argmax(gmeans)\n",
    "\n",
    "    return thresholds[index]"
   ]
  },
  {
   "cell_type": "code",
   "execution_count": 21,
   "id": "f6881e14-c648-4034-900e-d8d2cfaf81e4",
   "metadata": {
    "jupyter": {
     "source_hidden": true
    }
   },
   "outputs": [],
   "source": [
    "def get_operating_point( fpr, tpr, thresholds ):\n",
    "\n",
    "    tpr_intrp = interpolate.interp1d(thresholds, tpr)\n",
    "    fpr_intrp = interpolate.interp1d(thresholds, fpr)\n",
    "\n",
    "    thresh = get_gmeans_threshold( fpr, tpr, thresholds)\n",
    "    \n",
    "    op_fpr = fpr_intrp(thresh).ravel()\n",
    "    op_tpr = tpr_intrp(thresh).ravel()\n",
    "\n",
    "    distances = (fpr - op_fpr)**2 + (tpr - op_tpr)**2\n",
    "    closest_index = distances.argmin()\n",
    "    op_thresh = thresholds[ closest_index ]\n",
    "\n",
    "    return op_fpr, op_tpr, op_thresh"
   ]
  },
  {
   "cell_type": "code",
   "execution_count": 23,
   "id": "628139dd-9932-4a9a-9e40-feccdcfd5fbe",
   "metadata": {},
   "outputs": [
    {
     "name": "stdout",
     "output_type": "stream",
     "text": [
      "Threshold: 0.667 at fpr: 0.105, tpr: 0.73\n"
     ]
    }
   ],
   "source": [
    "train_roc_auc, train_fpr, train_tpr, train_thresholds = get_roc_curve_info( model, X_train, y_train )\n",
    "test_roc_auc, test_fpr, test_tpr, test_thresholds = get_roc_curve_info( model, X_test, y_test )\n",
    "\n",
    "#test_threshold = get_gmeans_threshold( test_fpr, test_tpr, test_thresholds )\n",
    "tt_fpr, tt_tpr, test_threshold = get_operating_point( test_fpr, test_tpr, test_thresholds )\n",
    "print(f\"Threshold: {round(test_threshold,3)} at fpr: {round(tt_fpr[0],3)}, tpr: {round(tt_tpr[0],3)}\")"
   ]
  },
  {
   "cell_type": "markdown",
   "id": "1e469f65-40c7-46b8-9c07-ca9188fc2a21",
   "metadata": {},
   "source": [
    "## ROC Curve"
   ]
  },
  {
   "cell_type": "code",
   "execution_count": 24,
   "id": "d0da6b26-d45d-4d07-98bc-d8d062852855",
   "metadata": {},
   "outputs": [
    {
     "data": {
      "image/png": "[encoded data removed]",
      "text/plain": [
       "<Figure size 640x480 with 1 Axes>"
      ]
     },
     "metadata": {},
     "output_type": "display_data"
    }
   ],
   "source": [
    "plt.title('Receiver Operating Characteristic')\n",
    "\n",
    "min_lim = -0.01\n",
    "max_lim = 1.01\n",
    "\n",
    "plt.plot(test_fpr, test_tpr, 'b', label = 'Test AUC = %0.3f' % test_roc_auc)\n",
    "plt.plot(train_fpr, train_tpr, 'g', label = 'Train AUC = %0.3f' % train_roc_auc)\n",
    "plt.plot([min_lim, max_lim], [min_lim, max_lim],'r--')\n",
    "\n",
    "plt.plot(tt_fpr, tt_tpr, 'bo', label=f'Test Operating Point')\n",
    "\n",
    "plt.xlim([min_lim, max_lim])\n",
    "plt.ylim([min_lim, max_lim])\n",
    "plt.ylabel('True Positive Rate')\n",
    "plt.xlabel('False Positive Rate')\n",
    "\n",
    "plt.legend(loc = 'lower right')\n",
    "plt.show()"
   ]
  },
  {
   "cell_type": "code",
   "execution_count": 25,
   "id": "e6e50b26-6ebb-4b5f-8d03-47263363a35d",
   "metadata": {
    "jupyter": {
     "source_hidden": true
    }
   },
   "outputs": [],
   "source": [
    "def print_confusion_matrix( y, y_preds, threshold ):\n",
    "\n",
    "    tn, fp, fn, tp = ms.confusion_matrix(y, y_preds).ravel()\n",
    "    print(f\"Confusion Matrix, at Threshold {threshold:.3f}\")\n",
    "    print(f\"  tn {tn:<3}  fp {fp:<3}\")\n",
    "    print(f\"  fn {fn:<3}  tp {tp:<3}\")\n",
    "    print()"
   ]
  },
  {
   "cell_type": "code",
   "execution_count": 26,
   "id": "d65541bb-fef0-47bc-9fc4-eff8a5aebed1",
   "metadata": {
    "jupyter": {
     "source_hidden": true
    }
   },
   "outputs": [],
   "source": [
    "def print_validation_scores( y, y_preds ):\n",
    "\n",
    "    bal_acc   = round( ms.balanced_accuracy_score( y, y_preds ), 3 )\n",
    "    precision = round( ms.precision_score( y, y_preds ), 3 )\n",
    "    recall    = round( ms.recall_score( y, y_preds ), 3 )\n",
    "    f1        = round( ms.f1_score( y, y_preds, average='micro' ), 3 )\n",
    "\n",
    "    s_scores = f\"Bal Acc: {bal_acc}, Pre: {precision}, Rec: {recall}, F1 Micro: {f1}\"\n",
    "    print(s_scores)\n",
    "    print()\n",
    "\n",
    "    return bal_acc, precision, recall, f1"
   ]
  },
  {
   "cell_type": "code",
   "execution_count": 27,
   "id": "53426ea8-9505-41e7-8648-59609be42d45",
   "metadata": {
    "jupyter": {
     "source_hidden": true
    }
   },
   "outputs": [],
   "source": [
    "def print_kfold_scores( model, X, y ):\n",
    "\n",
    "    s_scoring = \"balanced_accuracy\"\n",
    "    n_folds = 5\n",
    "    \n",
    "    l_raw_scores = mds.cross_val_score(model, X_test, y_test, scoring=s_scoring, cv=n_folds)\n",
    "\n",
    "    l_scores = [ round(i, 2) for i in l_raw_scores ]\n",
    "\n",
    "    formatted_scores = [f\"{num:.3f}\" for num in l_scores]\n",
    "\n",
    "    mean_score = round(st.mean(l_scores), 3)\n",
    "    std_score = round(st.stdev(l_scores), 3)\n",
    "\n",
    "    print(f\"{n_folds}-fold {s_scoring} mean: {mean_score}, stdev: {std_score}\")\n",
    "    print(f\"  each: {formatted_scores}\")"
   ]
  },
  {
   "cell_type": "code",
   "execution_count": 28,
   "id": "fea9e488-ce3d-4d74-848e-c6c9788dfd17",
   "metadata": {},
   "outputs": [
    {
     "name": "stdout",
     "output_type": "stream",
     "text": [
      "Confusion Matrix, at Threshold 0.667\n",
      "  tn 96   fp 9  \n",
      "  fn 23   tp 51 \n",
      "\n",
      "Bal Acc: 0.802, Pre: 0.85, Rec: 0.689, F1 Micro: 0.821\n",
      "\n",
      "5-fold balanced_accuracy mean: 0.778, stdev: 0.068\n",
      "  each: ['0.750', '0.890', '0.760', '0.780', '0.710']\n"
     ]
    }
   ],
   "source": [
    "y_test_preds_proba = model.predict_proba(X_test)\n",
    "y_test_preds = (y_test_preds_proba[:,1] > test_threshold).astype(int)\n",
    "\n",
    "print_confusion_matrix( y_test, y_test_preds, test_threshold )\n",
    "bal, pre, rec, f1 = print_validation_scores( y_test, y_test_preds )\n",
    "print_kfold_scores( model, X, y )"
   ]
  },
  {
   "cell_type": "markdown",
   "id": "4674e7ed-a204-4fd0-8be4-eaae31fc00bb",
   "metadata": {},
   "source": [
    "## Precision-Recall Curve"
   ]
  },
  {
   "cell_type": "code",
   "execution_count": 29,
   "id": "7537a20b-af61-477b-a506-f81a2ff062df",
   "metadata": {},
   "outputs": [
    {
     "data": {
      "image/png": "[encoded data removed]",
      "text/plain": [
       "<Figure size 640x480 with 1 Axes>"
      ]
     },
     "metadata": {},
     "output_type": "display_data"
    }
   ],
   "source": [
    "# Plot the precision-recall curve\n",
    "display = ms.PrecisionRecallDisplay.from_estimator(model, X_test, y_test)\n",
    "plt.title('Precision-Recall Curve')\n",
    "plt.plot(rec, pre, 'bo', label=f'Test Operating Point')\n",
    "plt.show()"
   ]
  },
  {
   "cell_type": "code",
   "execution_count": 30,
   "id": "ecaa9ad9-4fbb-4638-8525-0d308158e0de",
   "metadata": {},
   "outputs": [],
   "source": [
    "df_validate_set = pd.DataFrame(index=X_test.index)\n",
    "df_validate_set[\"Prob\"] = y_test_preds_proba[:,1]\n",
    "df_validate_set[\"Predict\"] = y_test_preds\n",
    "\n",
    "df_merged = pd.merge(df_train_clean, df_validate_set, left_index=True, right_index=True)\n",
    "df_sort = df_merged.sort_values( by=\"Prob\", ascending=True )\n",
    "\n",
    "num_display_rows = 10\n",
    "sample_size = 5\n",
    "display_columns = [ \"Survived\", \"Predict\", \"Prob\", \"Pclass\", \"Title\", \"LastName\", \"Age\", \"Embarked\", \"Ticket\", \"TicketFrequency\" ]"
   ]
  },
  {
   "cell_type": "markdown",
   "id": "69fc3ae3-6ac7-4a13-b34b-c28e21a55acf",
   "metadata": {},
   "source": [
    "## Predicted Deaths"
   ]
  },
  {
   "cell_type": "code",
   "execution_count": 31,
   "id": "a28bafa1-d11b-4700-aeb3-ba6a3d87d029",
   "metadata": {},
   "outputs": [
    {
     "data": {
      "text/html": [
       "<div>\n",
       "<style scoped>\n",
       "    .dataframe tbody tr th:only-of-type {\n",
       "        vertical-align: middle;\n",
       "    }\n",
       "\n",
       "    .dataframe tbody tr th {\n",
       "        vertical-align: top;\n",
       "    }\n",
       "\n",
       "    .dataframe thead th {\n",
       "        text-align: right;\n",
       "    }\n",
       "</style>\n",
       "<table border=\"1\" class=\"dataframe\">\n",
       "  <thead>\n",
       "    <tr style=\"text-align: right;\">\n",
       "      <th></th>\n",
       "      <th>Survived</th>\n",
       "      <th>Predict</th>\n",
       "      <th>Prob</th>\n",
       "      <th>Pclass</th>\n",
       "      <th>Title</th>\n",
       "      <th>LastName</th>\n",
       "      <th>Age</th>\n",
       "      <th>Embarked</th>\n",
       "      <th>Ticket</th>\n",
       "      <th>TicketFrequency</th>\n",
       "    </tr>\n",
       "  </thead>\n",
       "  <tbody>\n",
       "    <tr>\n",
       "      <th>396</th>\n",
       "      <td>0.0</td>\n",
       "      <td>0</td>\n",
       "      <td>0.307692</td>\n",
       "      <td>3</td>\n",
       "      <td>Miss</td>\n",
       "      <td>Olsson</td>\n",
       "      <td>31.0</td>\n",
       "      <td>S</td>\n",
       "      <td>350407</td>\n",
       "      <td>1</td>\n",
       "    </tr>\n",
       "    <tr>\n",
       "      <th>192</th>\n",
       "      <td>1.0</td>\n",
       "      <td>0</td>\n",
       "      <td>0.307692</td>\n",
       "      <td>3</td>\n",
       "      <td>Miss</td>\n",
       "      <td>Andersen-Jensen</td>\n",
       "      <td>19.0</td>\n",
       "      <td>S</td>\n",
       "      <td>350046</td>\n",
       "      <td>1</td>\n",
       "    </tr>\n",
       "    <tr>\n",
       "      <th>777</th>\n",
       "      <td>1.0</td>\n",
       "      <td>0</td>\n",
       "      <td>0.666667</td>\n",
       "      <td>3</td>\n",
       "      <td>Miss</td>\n",
       "      <td>Emanuel</td>\n",
       "      <td>5.0</td>\n",
       "      <td>S</td>\n",
       "      <td>364516</td>\n",
       "      <td>2</td>\n",
       "    </tr>\n",
       "    <tr>\n",
       "      <th>49</th>\n",
       "      <td>0.0</td>\n",
       "      <td>0</td>\n",
       "      <td>0.666667</td>\n",
       "      <td>3</td>\n",
       "      <td>Mrs</td>\n",
       "      <td>Arnold-Franchi</td>\n",
       "      <td>18.0</td>\n",
       "      <td>S</td>\n",
       "      <td>349237</td>\n",
       "      <td>2</td>\n",
       "    </tr>\n",
       "    <tr>\n",
       "      <th>254</th>\n",
       "      <td>0.0</td>\n",
       "      <td>0</td>\n",
       "      <td>0.666667</td>\n",
       "      <td>3</td>\n",
       "      <td>Mrs</td>\n",
       "      <td>Rosblom</td>\n",
       "      <td>41.0</td>\n",
       "      <td>S</td>\n",
       "      <td>370129</td>\n",
       "      <td>3</td>\n",
       "    </tr>\n",
       "  </tbody>\n",
       "</table>\n",
       "</div>"
      ],
      "text/plain": [
       "     Survived  Predict      Prob  Pclass Title         LastName   Age  \\\n",
       "396       0.0        0  0.307692       3  Miss           Olsson  31.0   \n",
       "192       1.0        0  0.307692       3  Miss  Andersen-Jensen  19.0   \n",
       "777       1.0        0  0.666667       3  Miss          Emanuel   5.0   \n",
       "49        0.0        0  0.666667       3   Mrs   Arnold-Franchi  18.0   \n",
       "254       0.0        0  0.666667       3   Mrs          Rosblom  41.0   \n",
       "\n",
       "    Embarked  Ticket  TicketFrequency  \n",
       "396        S  350407                1  \n",
       "192        S  350046                1  \n",
       "777        S  364516                2  \n",
       "49         S  349237                2  \n",
       "254        S  370129                3  "
      ]
     },
     "execution_count": 31,
     "metadata": {},
     "output_type": "execute_result"
    }
   ],
   "source": [
    "df_sort[ df_sort[\"Prob\"] <= test_threshold ][ display_columns ].tail(num_display_rows) \\\n",
    "    .sample(n=sample_size).sort_values(by=\"Prob\", ascending=True)"
   ]
  },
  {
   "cell_type": "markdown",
   "id": "3475f0c0-5aab-46a5-8cfe-272f2fc9a689",
   "metadata": {},
   "source": [
    "## Predicted Survivors"
   ]
  },
  {
   "cell_type": "code",
   "execution_count": 32,
   "id": "3e7899d8-c8ef-456e-a36a-c40c5f7f995a",
   "metadata": {},
   "outputs": [
    {
     "data": {
      "text/html": [
       "<div>\n",
       "<style scoped>\n",
       "    .dataframe tbody tr th:only-of-type {\n",
       "        vertical-align: middle;\n",
       "    }\n",
       "\n",
       "    .dataframe tbody tr th {\n",
       "        vertical-align: top;\n",
       "    }\n",
       "\n",
       "    .dataframe thead th {\n",
       "        text-align: right;\n",
       "    }\n",
       "</style>\n",
       "<table border=\"1\" class=\"dataframe\">\n",
       "  <thead>\n",
       "    <tr style=\"text-align: right;\">\n",
       "      <th></th>\n",
       "      <th>Survived</th>\n",
       "      <th>Predict</th>\n",
       "      <th>Prob</th>\n",
       "      <th>Pclass</th>\n",
       "      <th>Title</th>\n",
       "      <th>LastName</th>\n",
       "      <th>Age</th>\n",
       "      <th>Embarked</th>\n",
       "      <th>Ticket</th>\n",
       "      <th>TicketFrequency</th>\n",
       "    </tr>\n",
       "  </thead>\n",
       "  <tbody>\n",
       "    <tr>\n",
       "      <th>830</th>\n",
       "      <td>1.0</td>\n",
       "      <td>1</td>\n",
       "      <td>0.731707</td>\n",
       "      <td>3</td>\n",
       "      <td>Mrs</td>\n",
       "      <td>Yasbeck</td>\n",
       "      <td>15.0</td>\n",
       "      <td>C</td>\n",
       "      <td>2659</td>\n",
       "      <td>2</td>\n",
       "    </tr>\n",
       "    <tr>\n",
       "      <th>767</th>\n",
       "      <td>0.0</td>\n",
       "      <td>1</td>\n",
       "      <td>0.731707</td>\n",
       "      <td>3</td>\n",
       "      <td>Miss</td>\n",
       "      <td>Mangan</td>\n",
       "      <td>30.5</td>\n",
       "      <td>Q</td>\n",
       "      <td>364850</td>\n",
       "      <td>1</td>\n",
       "    </tr>\n",
       "    <tr>\n",
       "      <th>359</th>\n",
       "      <td>1.0</td>\n",
       "      <td>1</td>\n",
       "      <td>0.731707</td>\n",
       "      <td>3</td>\n",
       "      <td>Miss</td>\n",
       "      <td>Mockler</td>\n",
       "      <td>NaN</td>\n",
       "      <td>Q</td>\n",
       "      <td>330980</td>\n",
       "      <td>1</td>\n",
       "    </tr>\n",
       "    <tr>\n",
       "      <th>300</th>\n",
       "      <td>1.0</td>\n",
       "      <td>1</td>\n",
       "      <td>0.731707</td>\n",
       "      <td>3</td>\n",
       "      <td>Miss</td>\n",
       "      <td>Kelly</td>\n",
       "      <td>NaN</td>\n",
       "      <td>Q</td>\n",
       "      <td>9234</td>\n",
       "      <td>1</td>\n",
       "    </tr>\n",
       "    <tr>\n",
       "      <th>82</th>\n",
       "      <td>1.0</td>\n",
       "      <td>1</td>\n",
       "      <td>0.731707</td>\n",
       "      <td>3</td>\n",
       "      <td>Miss</td>\n",
       "      <td>McDermott</td>\n",
       "      <td>NaN</td>\n",
       "      <td>Q</td>\n",
       "      <td>330932</td>\n",
       "      <td>1</td>\n",
       "    </tr>\n",
       "  </tbody>\n",
       "</table>\n",
       "</div>"
      ],
      "text/plain": [
       "     Survived  Predict      Prob  Pclass Title   LastName   Age Embarked  \\\n",
       "830       1.0        1  0.731707       3   Mrs    Yasbeck  15.0        C   \n",
       "767       0.0        1  0.731707       3  Miss     Mangan  30.5        Q   \n",
       "359       1.0        1  0.731707       3  Miss    Mockler   NaN        Q   \n",
       "300       1.0        1  0.731707       3  Miss      Kelly   NaN        Q   \n",
       "82        1.0        1  0.731707       3  Miss  McDermott   NaN        Q   \n",
       "\n",
       "     Ticket  TicketFrequency  \n",
       "830    2659                2  \n",
       "767  364850                1  \n",
       "359  330980                1  \n",
       "300    9234                1  \n",
       "82   330932                1  "
      ]
     },
     "execution_count": 32,
     "metadata": {},
     "output_type": "execute_result"
    }
   ],
   "source": [
    "df_sort[ df_sort[\"Prob\"] > test_threshold ][ display_columns ].head(num_display_rows) \\\n",
    "    .sample(n=sample_size).sort_values(by=\"Prob\", ascending=True)"
   ]
  },
  {
   "cell_type": "markdown",
   "id": "62fda5eb-9d18-47b5-867f-d281d1b29068",
   "metadata": {},
   "source": [
    "# Creating the Submission File"
   ]
  },
  {
   "cell_type": "code",
   "execution_count": 33,
   "id": "8ba58a45-6bb7-43e5-a7a2-7959b20eb745",
   "metadata": {},
   "outputs": [],
   "source": [
    "y_proba = model.predict_proba(df_test_clean[x_colnames])\n",
    "y_preds = (y_proba[:,1] > test_threshold).astype(int)\n",
    "\n",
    "df_test_clean[\"Prob\"] = y_proba[:,1]\n",
    "df_test_clean[\"Survived\"] = y_preds\n",
    "\n",
    "df_test_clean[[\"PassengerId\", \"Survived\"]].to_csv(DATA_DIR + f\"submission.csv\", index=False)"
   ]
  }
 ],
 "metadata": {
  "kernelspec": {
   "display_name": "Python 3 (ipykernel)",
   "language": "python",
   "name": "python3"
  },
  "language_info": {
   "codemirror_mode": {
    "name": "ipython",
    "version": 3
   },
   "file_extension": ".py",
   "mimetype": "text/x-python",
   "name": "python",
   "nbconvert_exporter": "python",
   "pygments_lexer": "ipython3",
   "version": "3.12.7"
  }
 },
 "nbformat": 4,
 "nbformat_minor": 5
}
