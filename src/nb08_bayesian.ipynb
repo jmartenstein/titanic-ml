{
 "cells": [
  {
   "cell_type": "markdown",
   "id": "06981a39-d001-4333-9567-d7cf2cf3c78a",
   "metadata": {},
   "source": [
    "Naive Bayesian Model\n",
    "===================="
   ]
  },
  {
   "cell_type": "code",
   "execution_count": 1,
   "id": "949d17ef-0f42-4bae-a5fc-24b5d6eac8b0",
   "metadata": {},
   "outputs": [
    {
     "name": "stdout",
     "output_type": "stream",
     "text": [
      "(891, 55)\n"
     ]
    }
   ],
   "source": [
    "# set up code and dataframe with training data\n",
    "import pandas as pd\n",
    "import numpy as np\n",
    "import statistics as st\n",
    "\n",
    "import sklearn.metrics as ms\n",
    "import sklearn.feature_selection as fs\n",
    "import sklearn.model_selection as mds\n",
    "import sklearn.naive_bayes as nb\n",
    "\n",
    "import matplotlib.pyplot as plt\n",
    "from scipy import interpolate\n",
    "\n",
    "\n",
    "datestamp = \"20250226.185554\"\n",
    "df_ = pd.read_csv(f\"../data/kaggle/train.clean.{datestamp}.csv\")\n",
    "print(df_.shape)"
   ]
  },
  {
   "cell_type": "markdown",
   "id": "d9e5b898-894b-4510-bb42-4f553d57db5d",
   "metadata": {},
   "source": [
    "# Create X and y Frames"
   ]
  },
  {
   "cell_type": "code",
   "execution_count": 2,
   "id": "340ef86f-7a43-4c5d-b6b7-3880a286943f",
   "metadata": {},
   "outputs": [
    {
     "name": "stdout",
     "output_type": "stream",
     "text": [
      "<class 'pandas.core.frame.DataFrame'>\n",
      "RangeIndex: 891 entries, 0 to 890\n",
      "Data columns (total 7 columns):\n",
      " #   Column         Non-Null Count  Dtype  \n",
      "---  ------         --------------  -----  \n",
      " 0   TitleOrd       891 non-null    float64\n",
      " 1   Pclass         891 non-null    int64  \n",
      " 2   CabinOrd       891 non-null    float64\n",
      " 3   SexOrd         891 non-null    float64\n",
      " 4   EmbarkOrd      891 non-null    float64\n",
      " 5   AgeImputed     891 non-null    float64\n",
      " 6   FarePerPerson  891 non-null    float64\n",
      "dtypes: float64(6), int64(1)\n",
      "memory usage: 48.9 KB\n",
      "None\n"
     ]
    }
   ],
   "source": [
    "# set the features to analyze\n",
    "#all_columns = True\n",
    "all_columns = False\n",
    "\n",
    "if all_columns:\n",
    "    columns_to_drop = [ \"Survived\", \"Name\", \"Title\", \"TitleGrouped\", \"LastName\", \"Cabin\", \n",
    "                        \"Ticket\", \"Sex\", \"Age\", \"Embarked\", \"PassengerId\", \"CabinDeck\",\n",
    "                        \"CabinRoom\" ]\n",
    "    columns_to_drop += []\n",
    "    x_colnames = [i for i in df_.columns if i not in columns_to_drop]\n",
    "else:\n",
    "    x_colnames = [ \"TitleOrd\", \"Pclass\", \"CabinOrd\", \"SexOrd\", \"EmbarkOrd\", \"AgeImputed\", \"FarePerPerson\" ]\n",
    "\n",
    "y_colname = [ \"Survived\" ]\n",
    "\n",
    "X = df_[ x_colnames ]\n",
    "y = df_[ y_colname ].values.ravel()\n",
    "\n",
    "print(X.info())"
   ]
  },
  {
   "cell_type": "markdown",
   "id": "6e8cf9c9-d022-4e43-83ba-7cb8e74b7d7f",
   "metadata": {},
   "source": [
    "# Create Test and Train Datasets"
   ]
  },
  {
   "cell_type": "code",
   "execution_count": 3,
   "id": "69803c03-b293-4d6d-b94b-8d42377e9220",
   "metadata": {},
   "outputs": [],
   "source": [
    "# Assuming you have your features in X and your target variable in y\n",
    "X_train, X_test, y_train, y_test = mds.train_test_split(X, y, test_size=0.2)"
   ]
  },
  {
   "cell_type": "markdown",
   "id": "b03525c7-6127-4552-87c5-c27b47dbd79e",
   "metadata": {},
   "source": [
    "# Feature Scoring"
   ]
  },
  {
   "cell_type": "code",
   "execution_count": 4,
   "id": "e886158c-a6fd-422a-a973-b8391fafd2eb",
   "metadata": {},
   "outputs": [
    {
     "name": "stdout",
     "output_type": "stream",
     "text": [
      "         Feature  chi2 Scores\n",
      "6  FarePerPerson  2004.833274\n",
      "0       TitleOrd   458.753418\n",
      "2       CabinOrd   153.968243\n",
      "3         SexOrd    66.558721\n",
      "1         Pclass    22.164507\n",
      "5     AgeImputed    13.669361\n",
      "4      EmbarkOrd     8.484255\n"
     ]
    }
   ],
   "source": [
    "f_model = fs.SelectKBest(fs.chi2, k=3)\n",
    "f_model.fit_transform(X_train, y_train)\n",
    "\n",
    "scores = f_model.scores_\n",
    "feature_imp_df = pd.DataFrame(\n",
    "    {'Feature': x_colnames, 'chi2 Scores': scores} ).sort_values(\n",
    "         'chi2 Scores', ascending=False)\n",
    "print(feature_imp_df)"
   ]
  },
  {
   "cell_type": "markdown",
   "id": "a50b5b90-2157-4286-9c16-508901e514ed",
   "metadata": {},
   "source": [
    "# Categorical Naive Bayes Classifier"
   ]
  },
  {
   "cell_type": "code",
   "execution_count": 5,
   "id": "650f6bc1-f013-4200-887f-8700c069fee5",
   "metadata": {},
   "outputs": [
    {
     "name": "stdout",
     "output_type": "stream",
     "text": [
      "Train AUC 0.885\n",
      "Train optimal threshold 0.548 at tpr: 0.78, fpr: 0.129\n"
     ]
    }
   ],
   "source": [
    "model = nb.CategoricalNB()\n",
    "model.fit(X_train, y_train)\n",
    "\n",
    "y_train_preds_proba = model.predict_proba(X_train)\n",
    "\n",
    "train_fpr, train_tpr, train_thresh = ms.roc_curve(y_train, y_train_preds_proba[:,1])\n",
    "train_roc_auc = ms.auc(train_fpr, train_tpr)\n",
    "\n",
    "# Calculate the geometric mean\n",
    "gmeans = np.sqrt(train_tpr * (1 - train_fpr))\n",
    "\n",
    "# Locate the index of the largest gmean\n",
    "index = np.argmax(gmeans)\n",
    "train_threshold = train_thresh[index]\n",
    "\n",
    "train_tpr_intrp = interpolate.interp1d(train_thresh, train_tpr)\n",
    "train_fpr_intrp = interpolate.interp1d(train_thresh, train_fpr)\n",
    "\n",
    "print(f\"Train AUC {round(train_roc_auc,3)}\")\n",
    "print(f\"Train optimal threshold {round(train_threshold,3)} at \" \\\n",
    "      f\"tpr: {np.round(train_tpr_intrp(train_threshold),3)}, \" \\\n",
    "      f\"fpr: {np.round(train_fpr_intrp(train_threshold),3)}\")"
   ]
  },
  {
   "cell_type": "code",
   "execution_count": 6,
   "id": "22979430-35ad-40ac-9118-4abe6b2217d3",
   "metadata": {},
   "outputs": [
    {
     "name": "stdout",
     "output_type": "stream",
     "text": [
      "Test AUC 0.882\n",
      "Test optimal threshold 0.169 at tpr: 0.885, fpr: 0.228\n"
     ]
    }
   ],
   "source": [
    "# calculate test ROC curve\n",
    "y_test_preds_proba  = model.predict_proba(X_test)\n",
    "\n",
    "test_fpr, test_tpr, test_thresh = ms.roc_curve(y_test, y_test_preds_proba[:,1])\n",
    "test_roc_auc = ms.auc(test_fpr, test_tpr)\n",
    "\n",
    "# Calculate the geometric mean\n",
    "test_gmeans = np.sqrt(test_tpr * (1 - test_fpr))\n",
    "\n",
    "# Locate the index of the largest gmean\n",
    "test_index = np.argmax(test_gmeans)\n",
    "test_threshold = test_thresh[test_index]\n",
    "\n",
    "test_tpr_intrp = interpolate.interp1d(test_thresh, test_tpr)\n",
    "test_fpr_intrp = interpolate.interp1d(test_thresh, test_fpr)\n",
    "\n",
    "print(f\"Test AUC {round(test_roc_auc,3)}\")\n",
    "print(f\"Test optimal threshold {round(test_threshold,3)} at \" \\\n",
    "      f\"tpr: {np.round(test_tpr_intrp(test_threshold),3)}, \" \\\n",
    "      f\"fpr: {np.round(test_fpr_intrp(test_threshold),3)}\")"
   ]
  },
  {
   "cell_type": "code",
   "execution_count": 7,
   "id": "5f03c2c1-eeac-4959-8433-b1485acd2c56",
   "metadata": {},
   "outputs": [],
   "source": [
    "# if necessay, override the threshold point\n",
    "#test_threshold = 0.85"
   ]
  },
  {
   "cell_type": "code",
   "execution_count": 8,
   "id": "c241a263-e5e8-4f82-b35b-17387a97b813",
   "metadata": {},
   "outputs": [],
   "source": [
    "# Define the desired operating point (FPR, TPR)\n",
    "test_operating_point_fpr = test_fpr_intrp(test_threshold)\n",
    "test_operating_point_tpr = test_tpr_intrp(test_threshold)\n",
    "\n",
    "# Find the closest threshold to the desired operating point\n",
    "distances = (test_fpr - test_operating_point_fpr)**2 + (test_tpr - test_operating_point_tpr)**2\n",
    "closest_index = distances.argmin()\n",
    "test_operating_point_threshold = test_thresh[closest_index]"
   ]
  },
  {
   "cell_type": "code",
   "execution_count": 9,
   "id": "35f155e1-b6b0-47b3-862d-b275f960d459",
   "metadata": {},
   "outputs": [
    {
     "data": {
      "image/png": "[encoded data removed]",
      "text/plain": [
       "<Figure size 640x480 with 1 Axes>"
      ]
     },
     "metadata": {},
     "output_type": "display_data"
    }
   ],
   "source": [
    "plt.title('Receiver Operating Characteristic')\n",
    "\n",
    "plt.plot(test_fpr, test_tpr, 'b', label = 'Test AUC = %0.3f' % test_roc_auc)\n",
    "plt.plot(train_fpr, train_tpr, 'g', label = 'Train AUC = %0.3f' % train_roc_auc)\n",
    "plt.plot([0, 1], [0, 1],'r--')\n",
    "\n",
    "plt.plot(test_operating_point_fpr,test_operating_point_tpr, 'bo', label=f'Test Operating Point')\n",
    "#plt.plot(train_operating_point_fpr,train_operating_point_tpr, 'go', label=f'Train Operating Point')\n",
    "\n",
    "plt.xlim([0, 1])\n",
    "plt.ylim([0, 1])\n",
    "plt.ylabel('True Positive Rate')\n",
    "plt.xlabel('False Positive Rate')\n",
    "\n",
    "plt.legend(loc = 'lower right')\n",
    "plt.show()"
   ]
  },
  {
   "cell_type": "code",
   "execution_count": 10,
   "id": "37fafb27-f17c-42bf-a7c9-6a6bff117149",
   "metadata": {},
   "outputs": [
    {
     "name": "stdout",
     "output_type": "stream",
     "text": [
      "Confusion Matrix, at Threshold 0.169\n",
      "  tn 78   fp 23 \n",
      "  fn 10   tp 68 \n",
      "\n",
      "Bal Acc: 0.822, Pre: 0.747, Rec: 0.872, F1 Micro: 0.816\n"
     ]
    }
   ],
   "source": [
    "y_test_preds = (y_test_preds_proba[:,1] > test_threshold).astype(int)\n",
    "\n",
    "tn, fp, fn, tp = ms.confusion_matrix(y_test, y_test_preds).ravel()\n",
    "print(f\"Confusion Matrix, at Threshold {test_threshold:.3f}\")\n",
    "print(f\"  tn {tn:<3}  fp {fp:<3}\")\n",
    "print(f\"  fn {fn:<3}  tp {tp:<3}\")\n",
    "print()\n",
    "\n",
    "bal_acc   = round( ms.balanced_accuracy_score( y_test, y_test_preds ), 3 )\n",
    "precision = round( ms.precision_score( y_test, y_test_preds ), 3 )\n",
    "recall    = round( ms.recall_score( y_test, y_test_preds ), 3 )\n",
    "f1        = round( ms.f1_score( y_test, y_test_preds, average='micro' ), 3 )\n",
    "\n",
    "s_scores = f\"Bal Acc: {bal_acc}, Pre: {precision}, Rec: {recall}, F1 Micro: {f1}\"\n",
    "print(s_scores)"
   ]
  },
  {
   "cell_type": "code",
   "execution_count": 11,
   "id": "aaa341c3-ee63-4ed1-a749-e2d1a171087b",
   "metadata": {},
   "outputs": [
    {
     "data": {
      "image/png": "[encoded data removed]",
      "text/plain": [
       "<Figure size 640x480 with 1 Axes>"
      ]
     },
     "metadata": {},
     "output_type": "display_data"
    }
   ],
   "source": [
    "# Plot the precision-recall curve\n",
    "display = ms.PrecisionRecallDisplay.from_estimator(model, X_test, y_test)\n",
    "plt.title('Precision-Recall Curve')\n",
    "plt.plot(recall, precision, 'bo', label=f'Test Operating Point')\n",
    "plt.show()"
   ]
  },
  {
   "cell_type": "code",
   "execution_count": 12,
   "id": "4fea7058-7650-460b-b01a-b8de3f3c337a",
   "metadata": {},
   "outputs": [],
   "source": [
    "df_test = pd.read_csv(f\"../data/kaggle/test.clean.{datestamp}.csv\")\n",
    "\n",
    "y_proba = model.predict_proba(df_test[x_colnames])\n",
    "y_preds = (y_proba[:,1] > test_threshold).astype(int)\n",
    "\n",
    "df_test[\"SurvivedProbability\"] = y_proba[:,1]\n",
    "df_test[\"Survived\"] = y_preds\n"
   ]
  },
  {
   "cell_type": "code",
   "execution_count": 13,
   "id": "fcd5b024-8916-496c-9b64-c303eb709be5",
   "metadata": {},
   "outputs": [],
   "source": [
    "df_test[[\"PassengerId\", \"Survived\"]].to_csv(f\"../data/kaggle/submit.bayesian.csv\", index=False)"
   ]
  }
 ],
 "metadata": {
  "kernelspec": {
   "display_name": "Python 3 (ipykernel)",
   "language": "python",
   "name": "python3"
  },
  "language_info": {
   "codemirror_mode": {
    "name": "ipython",
    "version": 3
   },
   "file_extension": ".py",
   "mimetype": "text/x-python",
   "name": "python",
   "nbconvert_exporter": "python",
   "pygments_lexer": "ipython3",
   "version": "3.12.7"
  }
 },
 "nbformat": 4,
 "nbformat_minor": 5
}
