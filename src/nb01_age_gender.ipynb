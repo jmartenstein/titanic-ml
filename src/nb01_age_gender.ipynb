{
 "cells": [
  {
   "cell_type": "markdown",
   "id": "cd0d6f09-777b-4257-901e-ccdf44e5e815",
   "metadata": {},
   "source": [
    "Initial Exploration of Age and Gender Features\n",
    "==============================================\n",
    "\n",
    "This notebook serves as an initial exploration of machine learning techniques against the Titanic dataset. To keep things very simple, we focus on two features of the data: age and sex of passenger. Given that the sex / gender is already created as an example submission, we can use that to confirm validation methodologies."
   ]
  },
  {
   "cell_type": "code",
   "execution_count": 1,
   "id": "7882d875-166c-415e-839e-5fa56c5cb3a2",
   "metadata": {},
   "outputs": [
    {
     "name": "stdout",
     "output_type": "stream",
     "text": [
      "(891, 12)\n"
     ]
    }
   ],
   "source": [
    "# set up code and dataframe with training data\n",
    "import pandas as pd\n",
    "import numpy as np\n",
    "\n",
    "import matplotlib.pyplot as plt\n",
    "\n",
    "from sklearn import svm, preprocessing\n",
    "from sklearn.model_selection import train_test_split, \\\n",
    "                                    cross_val_score, \\\n",
    "                                    KFold\n",
    "\n",
    "df = pd.read_csv(\"../data/kaggle/train.csv\")\n",
    "print(df.shape)"
   ]
  },
  {
   "cell_type": "code",
   "execution_count": 2,
   "id": "5b25575a-cd2c-4676-82b9-1f713a8404de",
   "metadata": {},
   "outputs": [],
   "source": [
    "# set up the X, y values for the train and test sets\n",
    "x1_col_name, x2_col_name, y_col_name = 'Sex', 'Age', 'Survived'\n",
    "\n",
    "# for the first exploration, we want to focus on gender, so we set the variable to X1\n",
    "X1_ = df[[ x1_col_name ]]\n",
    "y = df[ y_col_name ].values\n",
    "\n",
    "# because the sex / gender data is categorical ['male', 'female'], then we need\n",
    "# to convert it to ordinal numbers; this could also be done with an apply function,\n",
    "# I'm choosing to use the preprocessing encoder here as a learning opportunity\n",
    "enc = preprocessing.OrdinalEncoder()\n",
    "X = enc.fit_transform(X1_)"
   ]
  },
  {
   "cell_type": "code",
   "execution_count": 3,
   "id": "60beb682-68d0-4da9-853e-bf91082f5b58",
   "metadata": {},
   "outputs": [
    {
     "data": {
      "text/plain": [
       "0.776536312849162"
      ]
     },
     "execution_count": 3,
     "metadata": {},
     "output_type": "execute_result"
    }
   ],
   "source": [
    "X_train, X_test, y_train, y_test = train_test_split( X, y, \\\n",
    "                                     test_size=0.2, random_state=1)\n",
    "\n",
    "clf = svm.SVC( kernel='linear', C=1 ).fit( X_train, y_train )\n",
    "clf.score(X_test, y_test)"
   ]
  },
  {
   "cell_type": "code",
   "execution_count": 4,
   "id": "b12507d2-037a-4607-9734-65b1543e8e4d",
   "metadata": {},
   "outputs": [
    {
     "name": "stdout",
     "output_type": "stream",
     "text": [
      "Sex     Survived\n",
      "female  0            81\n",
      "        1           233\n",
      "male    0           468\n",
      "        1           109\n",
      "Name: Sex, dtype: int64\n",
      "\n",
      "Survived    0    1\n",
      "Sex               \n",
      "female     81  233\n",
      "male      468  109\n"
     ]
    }
   ],
   "source": [
    "# transform the dataframe, so that it can be properly graphed as a bar plot\n",
    "df_group_count = df.groupby([x1_col_name, y_col_name])[x1_col_name].count()\n",
    "df_grouped = df_group_count.unstack(y_col_name)\n",
    "\n",
    "print(df_group_count)\n",
    "print()\n",
    "print(df_grouped)"
   ]
  },
  {
   "cell_type": "code",
   "execution_count": 5,
   "id": "f0c00cc0-1836-4ca2-9679-12c090231398",
   "metadata": {},
   "outputs": [
    {
     "data": {
      "image/png": "[encoded data removed]",
      "text/plain": [
       "<Figure size 640x480 with 1 Axes>"
      ]
     },
     "metadata": {},
     "output_type": "display_data"
    }
   ],
   "source": [
    "df_grouped.plot(kind='bar')\n",
    "plt.show()"
   ]
  },
  {
   "cell_type": "code",
   "execution_count": 6,
   "id": "ab81a261-46e8-4c48-b818-d42eab66b3c5",
   "metadata": {},
   "outputs": [
    {
     "name": "stdout",
     "output_type": "stream",
     "text": [
      "Value count: 714\n",
      "NAN count:   177\n"
     ]
    }
   ],
   "source": [
    "age_val_count = df[[x2_col_name]].count()\n",
    "age_nan_count = df[[x2_col_name]].isna().sum()\n",
    "print(f\"Value count: {age_val_count.values[0]}\")\n",
    "print(f\"NAN count:   {age_nan_count.values[0]}\")"
   ]
  },
  {
   "cell_type": "code",
   "execution_count": 7,
   "id": "650f750a-f568-492c-b7f3-8a7f4cb8ed4b",
   "metadata": {},
   "outputs": [],
   "source": [
    "df_copy = df.copy()\n",
    "\n",
    "replace_val = -50\n",
    "\n",
    "#df_copy[col_name].fillna(value=replace_val, inplace=True)\n",
    "df_copy.dropna(subset=[x2_col_name], inplace=True)\n",
    "df_sub = df_copy[[y_col_name, x1_col_name, x2_col_name]]"
   ]
  },
  {
   "cell_type": "code",
   "execution_count": 8,
   "id": "75cb0517-1d88-4d1f-8e65-12ada1b7bdf0",
   "metadata": {},
   "outputs": [],
   "source": [
    "def get_hist_survived( df, num_bins ):\n",
    "\n",
    "    df_surv = df[ df[ y_col_name ] == 0 ].pivot(columns='Survived', values='Age')\n",
    "    df_nsrv = df[ df[ y_col_name ] == 1 ].pivot(columns='Survived', values='Age')\n",
    "\n",
    "    counts, bins, patches = plt.hist([df_surv[0], df_nsrv[1]], bins=num_bins)\n",
    "\n",
    "    return counts, bins, patches\n"
   ]
  },
  {
   "cell_type": "code",
   "execution_count": 12,
   "id": "d6c24821-6a5b-4a67-996d-6006281e1636",
   "metadata": {},
   "outputs": [
    {
     "data": {
      "image/png": "[encoded data removed]",
      "text/plain": [
       "<Figure size 640x480 with 1 Axes>"
      ]
     },
     "metadata": {},
     "output_type": "display_data"
    }
   ],
   "source": [
    "df_male = df_sub[ df_sub[ x1_col_name ] == \"male\" ]\n",
    "df_female = df_sub[ df_sub[ x1_col_name ] == \"female\" ]\n",
    "\n",
    "num_bins=16\n",
    "counts, bins, patchs = get_hist_survived( df_male, num_bins )\n",
    "plt.show()"
   ]
  },
  {
   "cell_type": "code",
   "execution_count": 10,
   "id": "db5784d2-27c6-4059-8355-cd225ae1ad02",
   "metadata": {},
   "outputs": [
    {
     "name": "stdout",
     "output_type": "stream",
     "text": [
      "       0     1\n",
      "0    5.0  13.0\n",
      "1    5.0   3.0\n",
      "2    4.0   3.0\n",
      "3    2.0   2.0\n",
      "4   13.0   1.0\n",
      "5   44.0   7.0\n",
      "6   41.0   3.0\n",
      "7   38.0   8.0\n",
      "8   47.0  12.0\n",
      "9   26.0  10.0\n",
      "10  29.0   9.0\n",
      "11  22.0   4.0\n",
      "12  14.0   3.0\n",
      "13  14.0   3.0\n",
      "14  15.0   6.0\n",
      "15   8.0   2.0\n",
      "16   9.0   1.0\n",
      "17   7.0   1.0\n",
      "18   5.0   1.0\n",
      "19   6.0   0.0\n",
      "20   2.0   0.0\n",
      "21   3.0   0.0\n",
      "22   1.0   0.0\n",
      "23   0.0   1.0\n"
     ]
    }
   ],
   "source": [
    "min_age = int(df_sub['Age'].min())\n",
    "max_age = int(df_sub['Age'].max())\n",
    "\n",
    "step = (max_age-min_age)/num_bins\n",
    "age_array = np.linspace(min_age, max_age, num_bins+1)\n",
    "\n",
    "df_age_count_survived = counts[0]\n",
    "df_age_count_notsurvived = counts[1]\n",
    "\n",
    "#df_age_count_totals = df_age_count_survived + df_age_count_notsurvived\n",
    "\n",
    "df_age_counts = pd.DataFrame(counts)\n",
    "print(df_age_counts.T)\n",
    "\n",
    "#print(age_array)\n",
    "#print(df_age_count_totals)\n",
    "#print(bins)"
   ]
  },
  {
   "cell_type": "code",
   "execution_count": null,
   "id": "a6339b9f-567f-4fab-90b7-7be638b85059",
   "metadata": {},
   "outputs": [],
   "source": []
  }
 ],
 "metadata": {
  "kernelspec": {
   "display_name": "Python 3 (ipykernel)",
   "language": "python",
   "name": "python3"
  },
  "language_info": {
   "codemirror_mode": {
    "name": "ipython",
    "version": 3
   },
   "file_extension": ".py",
   "mimetype": "text/x-python",
   "name": "python",
   "nbconvert_exporter": "python",
   "pygments_lexer": "ipython3",
   "version": "3.12.7"
  }
 },
 "nbformat": 4,
 "nbformat_minor": 5
}
