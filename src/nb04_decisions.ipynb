{
 "cells": [
  {
   "cell_type": "markdown",
   "id": "9243a671-66e6-47eb-8188-5ead134f2934",
   "metadata": {},
   "source": [
    "Exploring Decision Trees\n",
    "========================\n",
    "\n",
    "Use a decision tree classifier to create a simplified model exploring the \"Sex\", \"Age\" and \"Fare Per Person\" features."
   ]
  },
  {
   "cell_type": "code",
   "execution_count": 1,
   "id": "7559af4b-8848-477d-b5c4-6458006a0ada",
   "metadata": {},
   "outputs": [
    {
     "name": "stdout",
     "output_type": "stream",
     "text": [
      "(891, 21)\n"
     ]
    }
   ],
   "source": [
    "# set up code and dataframe with training data\n",
    "import pandas as pd\n",
    "import numpy as np\n",
    "import statistics as st\n",
    "\n",
    "import sklearn.metrics as ms\n",
    "import sklearn.tree as tr\n",
    "import sklearn.model_selection as mds\n",
    "import matplotlib.pyplot as plt\n",
    "\n",
    "datestamp = \"20250129.150949\"\n",
    "df_ = pd.read_csv(f\"../data/kaggle/train.clean.{datestamp}.csv\")\n",
    "print(df_.shape)"
   ]
  },
  {
   "cell_type": "code",
   "execution_count": 2,
   "id": "6f7d8d9c-c689-479d-8cf6-299e256d05f7",
   "metadata": {},
   "outputs": [
    {
     "name": "stdout",
     "output_type": "stream",
     "text": [
      "<class 'pandas.core.frame.DataFrame'>\n",
      "RangeIndex: 891 entries, 0 to 890\n",
      "Data columns (total 4 columns):\n",
      " #   Column         Non-Null Count  Dtype  \n",
      "---  ------         --------------  -----  \n",
      " 0   SexOrd         891 non-null    float64\n",
      " 1   AgeImputed     891 non-null    float64\n",
      " 2   Pclass         891 non-null    int64  \n",
      " 3   FarePerPerson  891 non-null    float64\n",
      "dtypes: float64(3), int64(1)\n",
      "memory usage: 28.0 KB\n",
      "None\n"
     ]
    }
   ],
   "source": [
    "x_colnames = [ \"SexOrd\", \"AgeImputed\", \"Pclass\", \"FarePerPerson\" ]\n",
    "y_colname = [ \"Survived\" ]\n",
    "\n",
    "X = df_[ x_colnames ]\n",
    "y = df_[ y_colname ].values\n",
    "\n",
    "print(X.info())\n",
    "\n",
    "# Assuming you have your features in X and your target variable in y\n",
    "X_train, X_test, y_train, y_test = mds.train_test_split(X, y, test_size=0.2, random_state=5)"
   ]
  },
  {
   "cell_type": "code",
   "execution_count": 3,
   "id": "ba54c8f2-05d0-4e92-a341-5222dada2bd8",
   "metadata": {},
   "outputs": [
    {
     "name": "stdout",
     "output_type": "stream",
     "text": [
      "{'max_depth': 3, 'max_leaf_nodes': 6, 'min_samples_leaf': 40, 'min_samples_split': 10}\n",
      "\n",
      "         Feature  Gini Importance\n",
      "0         SexOrd         0.676634\n",
      "2         Pclass         0.177178\n",
      "3  FarePerPerson         0.102201\n",
      "1     AgeImputed         0.043987\n"
     ]
    }
   ],
   "source": [
    "n_folds = 6\n",
    "s_scoring = \"accuracy\"\n",
    "\n",
    "param_dist = {\n",
    "    'max_leaf_nodes': [ 5, 6, 7 ],\n",
    "    'max_depth': [2, 3, 4, 5],\n",
    "    'min_samples_split': [10, 25, 50, 75 ],\n",
    "    'min_samples_leaf': [10, 20, 30, 40, 50, 60]\n",
    "} \n",
    "\n",
    "# Create a decision tree classifier\n",
    "clf = tr.DecisionTreeClassifier(random_state=5)\n",
    "\n",
    "grid_search = mds.GridSearchCV( estimator=clf,\n",
    "                                param_grid=param_dist,\n",
    "                                cv=n_folds,\n",
    "                                scoring=s_scoring,\n",
    "                                n_jobs=-1 )\n",
    "\n",
    "\n",
    "# Train the classifier\n",
    "grid_search.fit(X_train, y_train)\n",
    "\n",
    "best_params = grid_search.best_params_\n",
    "model       = grid_search.best_estimator_\n",
    "\n",
    "print(best_params)\n",
    "print()\n",
    "\n",
    "importances = model.feature_importances_\n",
    "feature_imp_df = pd.DataFrame(\n",
    "    {'Feature': x_colnames, 'Gini Importance': importances} ).sort_values(\n",
    "         'Gini Importance', ascending=False)\n",
    "print(feature_imp_df)\n"
   ]
  },
  {
   "cell_type": "code",
   "execution_count": 4,
   "id": "802aeb74-e9d4-492e-99cd-4260d6bdeeff",
   "metadata": {},
   "outputs": [
    {
     "name": "stdout",
     "output_type": "stream",
     "text": [
      "|--- SexOrd <= 0.50\n",
      "|   |--- Pclass <= 2.50\n",
      "|   |   |--- weights: [6.00, 126.00] class: Alive\n",
      "|   |--- Pclass >  2.50\n",
      "|   |   |--- FarePerPerson <= 7.23\n",
      "|   |   |   |--- weights: [37.00, 21.00] class: Dead\n",
      "|   |   |--- FarePerPerson >  7.23\n",
      "|   |   |   |--- weights: [24.00, 41.00] class: Alive\n",
      "|--- SexOrd >  0.50\n",
      "|   |--- FarePerPerson <= 26.14\n",
      "|   |   |--- AgeImputed <= 17.50\n",
      "|   |   |   |--- weights: [24.00, 16.00] class: Dead\n",
      "|   |   |--- AgeImputed >  17.50\n",
      "|   |   |   |--- weights: [289.00, 32.00] class: Dead\n",
      "|   |--- FarePerPerson >  26.14\n",
      "|   |   |--- weights: [58.00, 38.00] class: Dead\n",
      "\n"
     ]
    }
   ],
   "source": [
    "print(tr.export_text(model, show_weights=True, feature_names=x_colnames, class_names=['Dead', 'Alive']))"
   ]
  },
  {
   "cell_type": "code",
   "execution_count": 5,
   "id": "c45bcc49-7e64-4023-b46e-a010cd72886f",
   "metadata": {},
   "outputs": [
    {
     "data": {
      "image/png": "[encoded data removed]",
      "text/plain": [
       "<Figure size 640x480 with 1 Axes>"
      ]
     },
     "metadata": {},
     "output_type": "display_data"
    }
   ],
   "source": [
    "tr.plot_tree(model, feature_names=x_colnames, class_names=['Dead', 'Alive'])\n",
    "plt.show()"
   ]
  },
  {
   "cell_type": "code",
   "execution_count": 6,
   "id": "c16c8310-a46e-4df2-baa4-8b917760219c",
   "metadata": {},
   "outputs": [
    {
     "name": "stdout",
     "output_type": "stream",
     "text": [
      "6-fold accuracy mean: 0.793, stdev: 0.084\n",
      "  each: [np.float64(0.83), np.float64(0.63), np.float64(0.8), np.float64(0.8), np.float64(0.87), np.float64(0.83)]\n"
     ]
    }
   ],
   "source": [
    "l_raw_scores = mds.cross_val_score(model, X_test, y_test, scoring=s_scoring, cv=n_folds)\n",
    "l_scores = [ round(i, 2) for i in l_raw_scores ]\n",
    "\n",
    "mean_score = round(st.mean(l_scores), 3)\n",
    "std_score = round(st.stdev(l_scores), 3)\n",
    "\n",
    "print(f\"{n_folds}-fold {s_scoring} mean: {mean_score}, stdev: {std_score}\")\n",
    "print(f\"  each: {l_scores}\")"
   ]
  },
  {
   "cell_type": "code",
   "execution_count": 7,
   "id": "5c850fc7-58c4-4076-b228-f615eb6d6f51",
   "metadata": {},
   "outputs": [
    {
     "name": "stdout",
     "output_type": "stream",
     "text": [
      "Confusion Matrix, at Threshold 0.400\n",
      "  tn 103  fp 8  \n",
      "  fn 27   tp 41 \n",
      "\n"
     ]
    }
   ],
   "source": [
    "threshold = 0.4\n",
    "y_test_preds_proba = model.predict_proba(X_test)\n",
    "y_test_preds = (y_test_preds_proba[:,1] > threshold).astype(int)\n",
    "\n",
    "tn, fp, fn, tp = ms.confusion_matrix(y_test, y_test_preds).ravel()\n",
    "print(f\"Confusion Matrix, at Threshold {threshold:.3f}\")\n",
    "print(f\"  tn {tn:<3}  fp {fp:<3}\")\n",
    "print(f\"  fn {fn:<3}  tp {tp:<3}\")\n",
    "print()"
   ]
  }
 ],
 "metadata": {
  "kernelspec": {
   "display_name": "Python 3 (ipykernel)",
   "language": "python",
   "name": "python3"
  },
  "language_info": {
   "codemirror_mode": {
    "name": "ipython",
    "version": 3
   },
   "file_extension": ".py",
   "mimetype": "text/x-python",
   "name": "python",
   "nbconvert_exporter": "python",
   "pygments_lexer": "ipython3",
   "version": "3.12.7"
  }
 },
 "nbformat": 4,
 "nbformat_minor": 5
}
