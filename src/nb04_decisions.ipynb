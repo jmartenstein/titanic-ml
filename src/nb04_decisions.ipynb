{
 "cells": [
  {
   "cell_type": "markdown",
   "id": "9243a671-66e6-47eb-8188-5ead134f2934",
   "metadata": {},
   "source": [
    "Exploring Decision Trees\n",
    "========================\n",
    "\n",
    "Use a decision tree classifier to create a simplified model exploring the \"Sex\", \"Age\" and \"Fare Per Person\" features."
   ]
  },
  {
   "cell_type": "code",
   "execution_count": 1,
   "id": "7559af4b-8848-477d-b5c4-6458006a0ada",
   "metadata": {},
   "outputs": [
    {
     "name": "stdout",
     "output_type": "stream",
     "text": [
      "(891, 32)\n"
     ]
    }
   ],
   "source": [
    "# set up code and dataframe with training data\n",
    "import pandas as pd\n",
    "import numpy as np\n",
    "import statistics as st\n",
    "\n",
    "import sklearn.metrics as ms\n",
    "import sklearn.tree as tr\n",
    "import sklearn.model_selection as mds\n",
    "import matplotlib.pyplot as plt\n",
    "\n",
    "datestamp = \"20250215.112744\"\n",
    "df_ = pd.read_csv(f\"../data/kaggle/train.clean.{datestamp}.csv\")\n",
    "print(df_.shape)"
   ]
  },
  {
   "cell_type": "code",
   "execution_count": 2,
   "id": "72248bb2-e888-4c91-aeae-09deb1a9702c",
   "metadata": {},
   "outputs": [],
   "source": [
    "#df_[ ((df_[\"TitleOrd\"] == 1) & (df_[\"Age\"].isna())) ].info()"
   ]
  },
  {
   "cell_type": "code",
   "execution_count": 3,
   "id": "6f7d8d9c-c689-479d-8cf6-299e256d05f7",
   "metadata": {},
   "outputs": [
    {
     "name": "stdout",
     "output_type": "stream",
     "text": [
      "<class 'pandas.core.frame.DataFrame'>\n",
      "RangeIndex: 891 entries, 0 to 890\n",
      "Data columns (total 5 columns):\n",
      " #   Column     Non-Null Count  Dtype  \n",
      "---  ------     --------------  -----  \n",
      " 0   Pclass     891 non-null    int64  \n",
      " 1   IsMale     891 non-null    int64  \n",
      " 2   AgeMinMax  891 non-null    float64\n",
      " 3   FppRobust  891 non-null    float64\n",
      " 4   Mr         891 non-null    int64  \n",
      "dtypes: float64(2), int64(3)\n",
      "memory usage: 34.9 KB\n",
      "None\n"
     ]
    }
   ],
   "source": [
    "x_colnames = [ \"Pclass\", \"IsMale\", \"AgeMinMax\", \"FppRobust\", \"Mr\" ]\n",
    "#x_colnames = [\"AgeImputed\", \"Pclass\"]\n",
    "y_colname = [ \"Survived\" ]\n",
    "\n",
    "X = df_[ x_colnames ]\n",
    "y = df_[ y_colname ].values\n",
    "\n",
    "print(X.info())\n",
    "\n",
    "# Assuming you have your features in X and your target variable in y\n",
    "X_train, X_test, y_train, y_test = mds.train_test_split(X, y, test_size=0.5)"
   ]
  },
  {
   "cell_type": "code",
   "execution_count": 4,
   "id": "ba54c8f2-05d0-4e92-a341-5222dada2bd8",
   "metadata": {},
   "outputs": [
    {
     "name": "stdout",
     "output_type": "stream",
     "text": [
      "{'max_depth': 3, 'max_leaf_nodes': 4, 'min_samples_leaf': 20, 'min_samples_split': 25}\n",
      "\n"
     ]
    }
   ],
   "source": [
    "n_folds = 6\n",
    "s_scoring = \"balanced_accuracy\"\n",
    "\n",
    "param_dist = {\n",
    "    'max_leaf_nodes': [ 4 ],\n",
    "    'max_depth': [ 2, 3 ],\n",
    "    'min_samples_split': [ 25, 50, 75, 100, 125 ],\n",
    "    'min_samples_leaf': [ 20, 30, 40, 50, 60, 70 ]\n",
    "} \n",
    "\n",
    "\n",
    "# Create a decision tree classifier\n",
    "clf = tr.DecisionTreeClassifier()\n",
    "\n",
    "grid_search = mds.GridSearchCV( estimator=clf,\n",
    "                                param_grid=param_dist,\n",
    "                                cv=n_folds,\n",
    "                                scoring=s_scoring,\n",
    "                                n_jobs=-1 )\n",
    "\n",
    "# Train the classifier\n",
    "grid_search.fit(X_train, y_train)\n",
    "\n",
    "best_params = grid_search.best_params_\n",
    "model       = grid_search.best_estimator_\n",
    "\n",
    "print(best_params)\n",
    "print()"
   ]
  },
  {
   "cell_type": "code",
   "execution_count": 5,
   "id": "0caa05dd-c18b-4c37-aa6f-57123b9d324b",
   "metadata": {},
   "outputs": [
    {
     "name": "stdout",
     "output_type": "stream",
     "text": [
      "     Feature  Gini Importance\n",
      "4         Mr         0.750495\n",
      "0     Pclass         0.208424\n",
      "3  FppRobust         0.041081\n",
      "1     IsMale         0.000000\n",
      "2  AgeMinMax         0.000000\n"
     ]
    }
   ],
   "source": [
    "importances = model.feature_importances_\n",
    "feature_imp_df = pd.DataFrame(\n",
    "    {'Feature': x_colnames, 'Gini Importance': importances} ).sort_values(\n",
    "         'Gini Importance', ascending=False)\n",
    "print(feature_imp_df)"
   ]
  },
  {
   "cell_type": "code",
   "execution_count": 6,
   "id": "802aeb74-e9d4-492e-99cd-4260d6bdeeff",
   "metadata": {},
   "outputs": [
    {
     "name": "stdout",
     "output_type": "stream",
     "text": [
      "|--- Mr <= 0.50\n",
      "|   |--- Pclass <= 2.50\n",
      "|   |   |--- weights: [10.00, 80.00] class: Alive\n",
      "|   |--- Pclass >  2.50\n",
      "|   |   |--- FppRobust <= -0.07\n",
      "|   |   |   |--- weights: [35.00, 18.00] class: Dead\n",
      "|   |   |--- FppRobust >  -0.07\n",
      "|   |   |   |--- weights: [16.00, 25.00] class: Alive\n",
      "|--- Mr >  0.50\n",
      "|   |--- weights: [226.00, 35.00] class: Dead\n",
      "\n"
     ]
    }
   ],
   "source": [
    "print(tr.export_text(model, show_weights=True, feature_names=x_colnames, class_names=['Dead', 'Alive']))"
   ]
  },
  {
   "cell_type": "code",
   "execution_count": 7,
   "id": "c45bcc49-7e64-4023-b46e-a010cd72886f",
   "metadata": {},
   "outputs": [
    {
     "data": {
      "image/png": "[encoded data removed]",
      "text/plain": [
       "<Figure size 640x480 with 1 Axes>"
      ]
     },
     "metadata": {},
     "output_type": "display_data"
    }
   ],
   "source": [
    "tr.plot_tree(model, feature_names=x_colnames, class_names=['Dead', 'Alive'])\n",
    "plt.show()"
   ]
  },
  {
   "cell_type": "code",
   "execution_count": 8,
   "id": "c16c8310-a46e-4df2-baa4-8b917760219c",
   "metadata": {},
   "outputs": [
    {
     "name": "stdout",
     "output_type": "stream",
     "text": [
      "6-fold balanced_accuracy mean: 0.745, stdev: 0.024\n",
      "  each: [np.float64(0.75), np.float64(0.74), np.float64(0.75), np.float64(0.77), np.float64(0.76), np.float64(0.7)]\n"
     ]
    }
   ],
   "source": [
    "l_raw_scores = mds.cross_val_score(model, X_test, y_test, scoring=s_scoring, cv=n_folds)\n",
    "l_scores = [ round(i, 2) for i in l_raw_scores ]\n",
    "\n",
    "mean_score = round(st.mean(l_scores), 3)\n",
    "std_score = round(st.stdev(l_scores), 3)\n",
    "\n",
    "print(f\"{n_folds}-fold {s_scoring} mean: {mean_score}, stdev: {std_score}\")\n",
    "print(f\"  each: {l_scores}\")"
   ]
  },
  {
   "cell_type": "code",
   "execution_count": 9,
   "id": "aa6d366b-ecc2-43f4-a389-51db318b1783",
   "metadata": {},
   "outputs": [
    {
     "name": "stdout",
     "output_type": "stream",
     "text": [
      "Threshold classfier score: 0.78\n",
      "\n"
     ]
    }
   ],
   "source": [
    "threshold_tuner = mds.TunedThresholdClassifierCV(\n",
    "    clf, scoring=\"f1_micro\", cv=n_folds).fit(X_train, y_train)\n",
    "threshold = threshold_tuner.best_threshold_\n",
    "\n",
    "print(f\"Threshold classfier score: {round(threshold_tuner.best_score_,2)}\")\n",
    "print()"
   ]
  },
  {
   "cell_type": "code",
   "execution_count": 10,
   "id": "ee4bc6db-9264-4928-93e3-f16f199fd5e8",
   "metadata": {},
   "outputs": [
    {
     "name": "stdout",
     "output_type": "stream",
     "text": [
      "Confusion Matrix, at Threshold 0.667\n",
      "  tn 248  fp 14 \n",
      "  fn 86   tp 98 \n",
      "\n"
     ]
    }
   ],
   "source": [
    "y_test_preds_proba = model.predict_proba(X_test)\n",
    "y_test_preds = (y_test_preds_proba[:,1] > threshold).astype(int)\n",
    "\n",
    "tn, fp, fn, tp = ms.confusion_matrix(y_test, y_test_preds).ravel()\n",
    "print(f\"Confusion Matrix, at Threshold {threshold:.3f}\")\n",
    "print(f\"  tn {tn:<3}  fp {fp:<3}\")\n",
    "print(f\"  fn {fn:<3}  tp {tp:<3}\")\n",
    "print()"
   ]
  },
  {
   "cell_type": "code",
   "execution_count": 11,
   "id": "f7ad33c2-879e-4986-b1a9-3a4727c8fa10",
   "metadata": {},
   "outputs": [],
   "source": [
    "df_test = pd.read_csv(f\"../data/kaggle/test.clean.{datestamp}.csv\")\n",
    "\n",
    "y_proba = model.predict_proba(df_test[x_colnames])\n",
    "y_preds = (y_proba[:,1] > threshold).astype(int)\n",
    "\n",
    "df_test[\"SurvivedProbability\"] = y_proba[:,1]\n",
    "df_test[\"Survived\"] = y_preds\n",
    "\n",
    "df_test[[\"PassengerId\", \"Survived\"]].to_csv(f\"../data/kaggle/submit.decisions.csv\", index=False)"
   ]
  }
 ],
 "metadata": {
  "kernelspec": {
   "display_name": "Python 3 (ipykernel)",
   "language": "python",
   "name": "python3"
  },
  "language_info": {
   "codemirror_mode": {
    "name": "ipython",
    "version": 3
   },
   "file_extension": ".py",
   "mimetype": "text/x-python",
   "name": "python",
   "nbconvert_exporter": "python",
   "pygments_lexer": "ipython3",
   "version": "3.12.7"
  }
 },
 "nbformat": 4,
 "nbformat_minor": 5
}
