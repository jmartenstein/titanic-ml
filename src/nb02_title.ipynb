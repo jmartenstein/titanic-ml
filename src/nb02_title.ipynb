{
 "cells": [
  {
   "cell_type": "markdown",
   "id": "8aef0c69-4f28-4ff2-a524-079bf9415f6d",
   "metadata": {},
   "source": [
    "Exploring Passenger Titles\n",
    "==========================\n",
    "\n",
    "The \"Name\" parameter from the dataset was parsed with another script into \"Title\" and \"LastName\" features. Initial analysis indicates that the \"Title\" feature could incorporate gender and age information. This notebook explore how these new features impact the overall predictability of the dataset"
   ]
  },
  {
   "cell_type": "code",
   "execution_count": 257,
   "id": "ce73f430-8b06-47a3-9a7c-6ab09c7e85e7",
   "metadata": {},
   "outputs": [
    {
     "name": "stdout",
     "output_type": "stream",
     "text": [
      "(891, 14)\n"
     ]
    }
   ],
   "source": [
    "# set up code and dataframe with training data\n",
    "import pandas as pd\n",
    "import numpy as np\n",
    "\n",
    "from sklearn import svm\n",
    "from sklearn.model_selection import train_test_split\n",
    "\n",
    "df = pd.read_csv(\"../data/kaggle/train_expanded.csv\")\n",
    "print(df.shape)"
   ]
  },
  {
   "cell_type": "code",
   "execution_count": 258,
   "id": "a6eef262-9951-48fb-99f5-c3fb624151b2",
   "metadata": {},
   "outputs": [],
   "source": [
    "x_col_name, y_col_name = \"Title\", \"Survived\"\n",
    "\n",
    "# transform the dataframe by title, so that we can determine which titles are most survivable\n",
    "df_group_count = df.groupby([x_col_name, y_col_name])[x_col_name].count()\n",
    "df_grouped = df_group_count.unstack(y_col_name)\n",
    "\n",
    "df_grouped.fillna(0, inplace=True)"
   ]
  },
  {
   "cell_type": "markdown",
   "id": "6ca6d1db-817d-49d6-bae2-30099bcbf6ca",
   "metadata": {},
   "source": [
    "# Survival Rate by Title\n",
    "\n",
    "Once we have passengers grouped by title, we can analyze the survival rates by title. This shows us what titles have a high survival rate (e.g. \"Mrs\") versus what titles have a low survival rate (e.g. \"Mr\")."
   ]
  },
  {
   "cell_type": "code",
   "execution_count": 259,
   "id": "9967ce69-f3ba-46be-9e30-f1b918075d51",
   "metadata": {},
   "outputs": [],
   "source": [
    "# functions to explore survival rate\n",
    "def get_total( row ):\n",
    "    return row[0] + row[1]\n",
    "\n",
    "def get_survival_rate( row ):\n",
    "    return row[1] / ( row[0] + row[1] )"
   ]
  },
  {
   "cell_type": "code",
   "execution_count": 260,
   "id": "b10935c8-a3cd-4629-8599-8f9329faed70",
   "metadata": {},
   "outputs": [
    {
     "name": "stdout",
     "output_type": "stream",
     "text": [
      "Survived          0      1  Total  SurvivalRate\n",
      "Title                                          \n",
      "the Countess    0.0    1.0    1.0        1.0000\n",
      "Mlle            0.0    2.0    2.0        1.0000\n",
      "Sir             0.0    1.0    1.0        1.0000\n",
      "Ms              0.0    1.0    1.0        1.0000\n",
      "Lady            0.0    1.0    1.0        1.0000\n",
      "Mme             0.0    1.0    1.0        1.0000\n",
      "Mrs            26.0   99.0  125.0        0.7920\n",
      "Miss           55.0  127.0  182.0        0.6978\n",
      "Master         17.0   23.0   40.0        0.5750\n",
      "Col             1.0    1.0    2.0        0.5000\n",
      "Major           1.0    1.0    2.0        0.5000\n",
      "Dr              4.0    3.0    7.0        0.4286\n",
      "Mr            436.0   81.0  517.0        0.1567\n",
      "Jonkheer        1.0    0.0    1.0        0.0000\n",
      "Rev             6.0    0.0    6.0        0.0000\n",
      "Don             1.0    0.0    1.0        0.0000\n",
      "Capt            1.0    0.0    1.0        0.0000\n"
     ]
    }
   ],
   "source": [
    "# analyze and print survival rate\n",
    "df_grouped['Total']        = df_grouped.apply(get_total, axis=1)\n",
    "df_grouped['SurvivalRate'] = round(df_grouped.apply(get_survival_rate, axis=1), 4)\n",
    "\n",
    "df_grouped.sort_values(by='SurvivalRate', ascending=False, inplace=True)\n",
    "\n",
    "print(df_grouped)"
   ]
  },
  {
   "cell_type": "markdown",
   "id": "a01dc020-5964-441d-82d4-a4a5f83aaa66",
   "metadata": {},
   "source": [
    "# Non-Surviving Title\n",
    "\n",
    "From the above analysis, we can see that the follow titles have survival rate under 50%: \"Capt\", \"Don\", \"Rev\", \"Johnkheer\", \"Mr\", \"Dr\". We can create a function that derives survivability based on title. By breaking the training data down into test and train subsets, we can get an estimate on the mean accuracy score for the survival title model."
   ]
  },
  {
   "cell_type": "code",
   "execution_count": 261,
   "id": "8682de56-ef57-4315-a366-f05806921414",
   "metadata": {},
   "outputs": [],
   "source": [
    "def non_surviving_title( row ):\n",
    "    nonsurviving_titles = ['Capt', 'Don', 'Rev', 'Jonkheer', 'Mr', 'Dr']\n",
    "\n",
    "    if row['Title'] in nonsurviving_titles:\n",
    "        return 0\n",
    "    else:\n",
    "        return 1"
   ]
  },
  {
   "cell_type": "code",
   "execution_count": 262,
   "id": "1b6fc7cf-4f2d-45e5-b824-84aaa300115e",
   "metadata": {},
   "outputs": [],
   "source": [
    "df['NonSurvivalTitle'] = df.apply(non_surviving_title, axis=1)"
   ]
  },
  {
   "cell_type": "code",
   "execution_count": 263,
   "id": "32e459a0-b220-449c-abc7-914ea8993b05",
   "metadata": {},
   "outputs": [
    {
     "data": {
      "text/plain": [
       "0.8044692737430168"
      ]
     },
     "execution_count": 263,
     "metadata": {},
     "output_type": "execute_result"
    }
   ],
   "source": [
    "# calculate the mean accuracy score for a sample of the training data\n",
    "x_col_name, y_col_name = \"NonSurvivalTitle\", \"Survived\"\n",
    "\n",
    "X = df[[ x_col_name ]]\n",
    "y = df[ y_col_name ].values\n",
    "\n",
    "X_train, X_test, y_train, y_test = train_test_split( X, y, \\\n",
    "                                     test_size=0.2, random_state=5)\n",
    "\n",
    "clf = svm.SVC( kernel='linear', C=1 ).fit( X_train, y_train )\n",
    "clf.score(X_test, y_test)"
   ]
  },
  {
   "cell_type": "markdown",
   "id": "ab250785-89ac-4c1e-9b66-6d66ab189823",
   "metadata": {},
   "source": [
    "# Training Group by Title and Class\n",
    "\n",
    "Some titles appear to be (anecdotally) high class (e.g. \"the Countess\", \"Sir\"). However some other titles are less clear, like \"Mr\" and \"Mrs\". This section of the model will list out a table showing the number of passengers for each title and pclass. From there, we can build a matrix of survivability for each feature."
   ]
  },
  {
   "cell_type": "code",
   "execution_count": 264,
   "id": "2215a49c-c9aa-4c26-82d6-5cefbb726abf",
   "metadata": {},
   "outputs": [
    {
     "name": "stdout",
     "output_type": "stream",
     "text": [
      "Pclass            1     2      3\n",
      "Title                           \n",
      "Capt            1.0   0.0    0.0\n",
      "Col             2.0   0.0    0.0\n",
      "Don             1.0   0.0    0.0\n",
      "Dr              5.0   2.0    0.0\n",
      "Jonkheer        1.0   0.0    0.0\n",
      "Lady            1.0   0.0    0.0\n",
      "Major           2.0   0.0    0.0\n",
      "Master          3.0   9.0   28.0\n",
      "Miss           46.0  34.0  102.0\n",
      "Mlle            2.0   0.0    0.0\n",
      "Mme             1.0   0.0    0.0\n",
      "Mr            107.0  91.0  319.0\n",
      "Mrs            42.0  41.0   42.0\n",
      "Ms              0.0   1.0    0.0\n",
      "Rev             0.0   6.0    0.0\n",
      "Sir             1.0   0.0    0.0\n",
      "the Countess    1.0   0.0    0.0\n"
     ]
    }
   ],
   "source": [
    "x_col_name, y_col_name = \"Title\", \"Pclass\"\n",
    "\n",
    "# transform the dataframe by title, so that we can determine which titles are most survivable\n",
    "df_group_count = df.groupby([x_col_name, y_col_name])[x_col_name].count()\n",
    "df_pclass_group = df_group_count.unstack(y_col_name)\n",
    "\n",
    "df_pclass_group.fillna(0, inplace=True)\n",
    "\n",
    "print(df_pclass_group)"
   ]
  },
  {
   "cell_type": "markdown",
   "id": "aa8993b1-fe69-4de0-a6f4-b23f7f356d42",
   "metadata": {},
   "source": [
    "# Test Group by Title and Class\n",
    "\n",
    "Compare the break down of title and class in the expanded test dataset to the training dataset"
   ]
  },
  {
   "cell_type": "code",
   "execution_count": 265,
   "id": "e52620a0-bd14-4717-8d69-2bec14f91336",
   "metadata": {},
   "outputs": [
    {
     "name": "stdout",
     "output_type": "stream",
     "text": [
      "Pclass     1     2      3\n",
      "Title                    \n",
      "Col      2.0   0.0    0.0\n",
      "Dona     1.0   0.0    0.0\n",
      "Dr       1.0   0.0    0.0\n",
      "Master   2.0   2.0   17.0\n",
      "Miss    14.0  16.0   48.0\n",
      "Mr      52.0  59.0  129.0\n",
      "Mrs     35.0  14.0   23.0\n",
      "Ms       0.0   0.0    1.0\n",
      "Rev      0.0   2.0    0.0\n"
     ]
    }
   ],
   "source": [
    "df_test = pd.read_csv(\"../data/kaggle/test_expanded.csv\")\n",
    "x_col_name, y_col_name = \"Title\", \"Pclass\"\n",
    "\n",
    "# transform the dataframe by title, so that we can determine which titles are most survivable\n",
    "df_group_count = df_test.groupby([x_col_name, y_col_name])[x_col_name].count()\n",
    "df_grouped = df_group_count.unstack(y_col_name)\n",
    "\n",
    "df_grouped.fillna(0, inplace=True)\n",
    "\n",
    "print(df_grouped)"
   ]
  }
 ],
 "metadata": {
  "kernelspec": {
   "display_name": "Python 3 (ipykernel)",
   "language": "python",
   "name": "python3"
  },
  "language_info": {
   "codemirror_mode": {
    "name": "ipython",
    "version": 3
   },
   "file_extension": ".py",
   "mimetype": "text/x-python",
   "name": "python",
   "nbconvert_exporter": "python",
   "pygments_lexer": "ipython3",
   "version": "3.12.7"
  }
 },
 "nbformat": 4,
 "nbformat_minor": 5
}
